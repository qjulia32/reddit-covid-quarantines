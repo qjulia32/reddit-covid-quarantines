{
 "cells": [
  {
   "cell_type": "markdown",
   "metadata": {},
   "source": [
    "# Data Processing"
   ]
  },
  {
   "cell_type": "markdown",
   "metadata": {},
   "source": [
    "First, let's install the necessary packages"
   ]
  },
  {
   "cell_type": "code",
   "execution_count": 2,
   "metadata": {},
   "outputs": [],
   "source": [
    "from collections import defaultdict\n",
    "from datetime import datetime\n",
    "import math\n",
    "from operator import itemgetter\n",
    "import os\n",
    "import random\n",
    "import re\n",
    "\n",
    "from nltk.corpus import stopwords\n",
    "from nltk.tokenize import RegexpTokenizer, TweetTokenizer\n",
    "\n",
    "tk = TweetTokenizer()\n",
    "\n",
    "import numpy as np\n",
    "import pandas as pd\n",
    "\n",
    "%matplotlib inline\n",
    "# !pip install little_mallet_wrapper\n",
    "import little_mallet_wrapper as lmw"
   ]
  },
  {
   "cell_type": "markdown",
   "metadata": {},
   "source": [
    "\n",
    "# MALLET\n",
    "\n",
    "I will be using the MALLET topic model, which is a faster topic model that is suited towards shorter documents, such as those found on social media. Specifically, I will be using a python wrapper for MALLET, called the [little mallet wrapper](https://github.com/maria-antoniak/little-mallet-wrapper) (lmw)."
   ]
  },
  {
   "cell_type": "markdown",
   "metadata": {},
   "source": [
    " Here, we set the path to the location of our local MALLET installation. "
   ]
  },
  {
   "cell_type": "code",
   "execution_count": 3,
   "metadata": {},
   "outputs": [],
   "source": [
    "path_to_mallet = 'C:/mallet-2.0.8/bin/mallet'  # CHANGE THIS TO YOUR MALLET PATH"
   ]
  },
  {
   "cell_type": "markdown",
   "metadata": {},
   "source": [
    "# Reddit corpus"
   ]
  },
  {
   "cell_type": "markdown",
   "metadata": {},
   "source": [
    "This corpus was created by scraping 57 non-quarantined and 51 quarantined subreddits with an upper limit of the top 100 posts and top 50 comments per post for each subreddit. Corpus creation took approximately 11.84 hours."
   ]
  },
  {
   "cell_type": "code",
   "execution_count": 230,
   "metadata": {},
   "outputs": [],
   "source": [
    "corpus_info_path = './corpus/test_3/100_50_info.csv'\n",
    "corpus_comments_path = './corpus/test_3/100_50_comments.csv'"
   ]
  },
  {
   "cell_type": "code",
   "execution_count": 231,
   "metadata": {},
   "outputs": [],
   "source": [
    "corpus_info_df = pd.read_csv(corpus_info_path)\n",
    "corpus_comments_df = pd.read_csv(corpus_comments_path)"
   ]
  },
  {
   "cell_type": "markdown",
   "metadata": {},
   "source": [
    " The `info.csv` is a table that contains information about each subreddit, such as number of subscribers, creation date, and description."
   ]
  },
  {
   "cell_type": "code",
   "execution_count": 232,
   "metadata": {},
   "outputs": [
    {
     "data": {
      "text/html": [
       "<div>\n",
       "<style scoped>\n",
       "    .dataframe tbody tr th:only-of-type {\n",
       "        vertical-align: middle;\n",
       "    }\n",
       "\n",
       "    .dataframe tbody tr th {\n",
       "        vertical-align: top;\n",
       "    }\n",
       "\n",
       "    .dataframe thead th {\n",
       "        text-align: right;\n",
       "    }\n",
       "</style>\n",
       "<table border=\"1\" class=\"dataframe\">\n",
       "  <thead>\n",
       "    <tr style=\"text-align: right;\">\n",
       "      <th></th>\n",
       "      <th>Unnamed: 0</th>\n",
       "      <th>subreddit_name</th>\n",
       "      <th>subreddit_id</th>\n",
       "      <th>quarantined</th>\n",
       "      <th>subscribers</th>\n",
       "      <th>created_utc</th>\n",
       "      <th>public_description</th>\n",
       "    </tr>\n",
       "  </thead>\n",
       "  <tbody>\n",
       "    <tr>\n",
       "      <th>0</th>\n",
       "      <td>0</td>\n",
       "      <td>Vaccines</td>\n",
       "      <td>t5_2r9k3</td>\n",
       "      <td>0</td>\n",
       "      <td>6109</td>\n",
       "      <td>1.255351e+09</td>\n",
       "      <td>This subreddit is committed to answering quest...</td>\n",
       "    </tr>\n",
       "    <tr>\n",
       "      <th>1</th>\n",
       "      <td>1</td>\n",
       "      <td>CovidVaccine</td>\n",
       "      <td>t5_2ls1x1</td>\n",
       "      <td>0</td>\n",
       "      <td>5578</td>\n",
       "      <td>1.587718e+09</td>\n",
       "      <td>NaN</td>\n",
       "    </tr>\n",
       "    <tr>\n",
       "      <th>2</th>\n",
       "      <td>2</td>\n",
       "      <td>AntiVaxxers</td>\n",
       "      <td>t5_384mz</td>\n",
       "      <td>0</td>\n",
       "      <td>30318</td>\n",
       "      <td>1.430942e+09</td>\n",
       "      <td>Anything Anti-Vaxx related. \\nNOTE: Though the...</td>\n",
       "    </tr>\n",
       "    <tr>\n",
       "      <th>3</th>\n",
       "      <td>3</td>\n",
       "      <td>vaxxhappened</td>\n",
       "      <td>t5_3p3pv</td>\n",
       "      <td>0</td>\n",
       "      <td>372160</td>\n",
       "      <td>1.507683e+09</td>\n",
       "      <td>Pro vaccine subreddit shining a light on dimwi...</td>\n",
       "    </tr>\n",
       "    <tr>\n",
       "      <th>4</th>\n",
       "      <td>4</td>\n",
       "      <td>antivaccine</td>\n",
       "      <td>t5_2wm9w</td>\n",
       "      <td>0</td>\n",
       "      <td>12269</td>\n",
       "      <td>1.363227e+09</td>\n",
       "      <td>Welcome to /r/AntiVaccine! Slamming Big Pharma...</td>\n",
       "    </tr>\n",
       "  </tbody>\n",
       "</table>\n",
       "</div>"
      ],
      "text/plain": [
       "   Unnamed: 0 subreddit_name subreddit_id  quarantined  subscribers  \\\n",
       "0           0       Vaccines     t5_2r9k3            0         6109   \n",
       "1           1   CovidVaccine    t5_2ls1x1            0         5578   \n",
       "2           2    AntiVaxxers     t5_384mz            0        30318   \n",
       "3           3   vaxxhappened     t5_3p3pv            0       372160   \n",
       "4           4    antivaccine     t5_2wm9w            0        12269   \n",
       "\n",
       "    created_utc                                 public_description  \n",
       "0  1.255351e+09  This subreddit is committed to answering quest...  \n",
       "1  1.587718e+09                                                NaN  \n",
       "2  1.430942e+09  Anything Anti-Vaxx related. \\nNOTE: Though the...  \n",
       "3  1.507683e+09  Pro vaccine subreddit shining a light on dimwi...  \n",
       "4  1.363227e+09  Welcome to /r/AntiVaccine! Slamming Big Pharma...  "
      ]
     },
     "execution_count": 232,
     "metadata": {},
     "output_type": "execute_result"
    }
   ],
   "source": [
    "corpus_info_df.head()"
   ]
  },
  {
   "cell_type": "markdown",
   "metadata": {},
   "source": [
    "The `comments.csv` is a table that contains the corpus, where each row is a separate comment, and information about the comment such as the subreddit and post it came from, as well as comment creation date, score, and awards. "
   ]
  },
  {
   "cell_type": "code",
   "execution_count": 233,
   "metadata": {},
   "outputs": [
    {
     "data": {
      "text/html": [
       "<div>\n",
       "<style scoped>\n",
       "    .dataframe tbody tr th:only-of-type {\n",
       "        vertical-align: middle;\n",
       "    }\n",
       "\n",
       "    .dataframe tbody tr th {\n",
       "        vertical-align: top;\n",
       "    }\n",
       "\n",
       "    .dataframe thead th {\n",
       "        text-align: right;\n",
       "    }\n",
       "</style>\n",
       "<table border=\"1\" class=\"dataframe\">\n",
       "  <thead>\n",
       "    <tr style=\"text-align: right;\">\n",
       "      <th></th>\n",
       "      <th>Unnamed: 0</th>\n",
       "      <th>subreddit_name</th>\n",
       "      <th>quarantined</th>\n",
       "      <th>post_id</th>\n",
       "      <th>comment_id</th>\n",
       "      <th>permalink</th>\n",
       "      <th>author</th>\n",
       "      <th>created_utc</th>\n",
       "      <th>score</th>\n",
       "      <th>awards</th>\n",
       "      <th>stickied</th>\n",
       "      <th>edited</th>\n",
       "      <th>body</th>\n",
       "    </tr>\n",
       "  </thead>\n",
       "  <tbody>\n",
       "    <tr>\n",
       "      <th>0</th>\n",
       "      <td>0</td>\n",
       "      <td>Vaccines</td>\n",
       "      <td>0</td>\n",
       "      <td>t3_k5zbnn</td>\n",
       "      <td>geili74</td>\n",
       "      <td>/r/VACCINES/comments/k5zbnn/raised_antivaxx_an...</td>\n",
       "      <td>rolacl</td>\n",
       "      <td>1.607023e+09</td>\n",
       "      <td>3</td>\n",
       "      <td>[]</td>\n",
       "      <td>False</td>\n",
       "      <td>False</td>\n",
       "      <td>Good for you girl. 💪🏻💪🏻</td>\n",
       "    </tr>\n",
       "    <tr>\n",
       "      <th>1</th>\n",
       "      <td>1</td>\n",
       "      <td>Vaccines</td>\n",
       "      <td>0</td>\n",
       "      <td>t3_k5zbnn</td>\n",
       "      <td>gej1b2u</td>\n",
       "      <td>/r/VACCINES/comments/k5zbnn/raised_antivaxx_an...</td>\n",
       "      <td>NaN</td>\n",
       "      <td>1.607030e+09</td>\n",
       "      <td>2</td>\n",
       "      <td>[]</td>\n",
       "      <td>False</td>\n",
       "      <td>False</td>\n",
       "      <td>Congrats friend! Welcome out of the dark ages!</td>\n",
       "    </tr>\n",
       "    <tr>\n",
       "      <th>2</th>\n",
       "      <td>2</td>\n",
       "      <td>Vaccines</td>\n",
       "      <td>0</td>\n",
       "      <td>t3_k5zbnn</td>\n",
       "      <td>gej3jkj</td>\n",
       "      <td>/r/VACCINES/comments/k5zbnn/raised_antivaxx_an...</td>\n",
       "      <td>MBmondongo</td>\n",
       "      <td>1.607031e+09</td>\n",
       "      <td>1</td>\n",
       "      <td>[]</td>\n",
       "      <td>False</td>\n",
       "      <td>False</td>\n",
       "      <td>I love this!</td>\n",
       "    </tr>\n",
       "    <tr>\n",
       "      <th>3</th>\n",
       "      <td>3</td>\n",
       "      <td>Vaccines</td>\n",
       "      <td>0</td>\n",
       "      <td>t3_k5zbnn</td>\n",
       "      <td>gejh10s</td>\n",
       "      <td>/r/VACCINES/comments/k5zbnn/raised_antivaxx_an...</td>\n",
       "      <td>NaN</td>\n",
       "      <td>1.607037e+09</td>\n",
       "      <td>1</td>\n",
       "      <td>[]</td>\n",
       "      <td>False</td>\n",
       "      <td>False</td>\n",
       "      <td>[removed]</td>\n",
       "    </tr>\n",
       "    <tr>\n",
       "      <th>4</th>\n",
       "      <td>4</td>\n",
       "      <td>Vaccines</td>\n",
       "      <td>0</td>\n",
       "      <td>t3_k5zbnn</td>\n",
       "      <td>gek56u9</td>\n",
       "      <td>/r/VACCINES/comments/k5zbnn/raised_antivaxx_an...</td>\n",
       "      <td>teensforvaxx</td>\n",
       "      <td>1.607052e+09</td>\n",
       "      <td>1</td>\n",
       "      <td>[]</td>\n",
       "      <td>False</td>\n",
       "      <td>False</td>\n",
       "      <td>Hey there! Congrats on getting vaccinated! Gav...</td>\n",
       "    </tr>\n",
       "  </tbody>\n",
       "</table>\n",
       "</div>"
      ],
      "text/plain": [
       "   Unnamed: 0 subreddit_name  quarantined    post_id comment_id  \\\n",
       "0           0       Vaccines            0  t3_k5zbnn    geili74   \n",
       "1           1       Vaccines            0  t3_k5zbnn    gej1b2u   \n",
       "2           2       Vaccines            0  t3_k5zbnn    gej3jkj   \n",
       "3           3       Vaccines            0  t3_k5zbnn    gejh10s   \n",
       "4           4       Vaccines            0  t3_k5zbnn    gek56u9   \n",
       "\n",
       "                                           permalink        author  \\\n",
       "0  /r/VACCINES/comments/k5zbnn/raised_antivaxx_an...        rolacl   \n",
       "1  /r/VACCINES/comments/k5zbnn/raised_antivaxx_an...           NaN   \n",
       "2  /r/VACCINES/comments/k5zbnn/raised_antivaxx_an...    MBmondongo   \n",
       "3  /r/VACCINES/comments/k5zbnn/raised_antivaxx_an...           NaN   \n",
       "4  /r/VACCINES/comments/k5zbnn/raised_antivaxx_an...  teensforvaxx   \n",
       "\n",
       "    created_utc  score awards  stickied edited  \\\n",
       "0  1.607023e+09      3     []     False  False   \n",
       "1  1.607030e+09      2     []     False  False   \n",
       "2  1.607031e+09      1     []     False  False   \n",
       "3  1.607037e+09      1     []     False  False   \n",
       "4  1.607052e+09      1     []     False  False   \n",
       "\n",
       "                                                body  \n",
       "0                            Good for you girl. 💪🏻💪🏻  \n",
       "1     Congrats friend! Welcome out of the dark ages!  \n",
       "2                                       I love this!  \n",
       "3                                          [removed]  \n",
       "4  Hey there! Congrats on getting vaccinated! Gav...  "
      ]
     },
     "execution_count": 233,
     "metadata": {},
     "output_type": "execute_result"
    }
   ],
   "source": [
    "corpus_comments_df.head()"
   ]
  },
  {
   "cell_type": "markdown",
   "metadata": {},
   "source": [
    "As we can see, we have scraped a total of 173,834 comments."
   ]
  },
  {
   "cell_type": "code",
   "execution_count": 234,
   "metadata": {},
   "outputs": [
    {
     "name": "stdout",
     "output_type": "stream",
     "text": [
      "173834\n"
     ]
    }
   ],
   "source": [
    "print(len(corpus_comments_df.index))"
   ]
  },
  {
   "cell_type": "markdown",
   "metadata": {},
   "source": [
    "## Cleaning the corpus\n",
    "\n",
    "We have two goals\n",
    "1. Removing non-english, non-utf8, or emoji-based comments that will cause encoding and processing errors with MALLET\n",
    "2. Checking and removing repeated (possibly by bots), removed, or deleted comments\n"
   ]
  },
  {
   "cell_type": "markdown",
   "metadata": {},
   "source": [
    "Let us process each string using little mallet wrapper's `process_string` function, which will transform all text to lowercase, remove stopwords, punctuation, and numbers."
   ]
  },
  {
   "cell_type": "code",
   "execution_count": 235,
   "metadata": {},
   "outputs": [],
   "source": [
    "training_data = [lmw.process_string(t) for t in corpus_comments_df['body'].tolist()]"
   ]
  },
  {
   "cell_type": "code",
   "execution_count": 184,
   "metadata": {},
   "outputs": [],
   "source": [
    "f = open(\"process_test.txt\", \"w\")\n",
    "for i, t in enumerate(corpus_comments_df['body'].tolist()):\n",
    "    try:\n",
    "        result = lmw.process_string(t)\n",
    "        f.write(result+\"\\n\")\n",
    "    except:\n",
    "        f.write(\"Error on line: \" + str(i) + \"\\n\")\n"
   ]
  },
  {
   "cell_type": "code",
   "execution_count": 9,
   "metadata": {},
   "outputs": [
    {
     "data": {
      "text/plain": [
       "172583"
      ]
     },
     "execution_count": 9,
     "metadata": {},
     "output_type": "execute_result"
    }
   ],
   "source": [
    "len(training_data)"
   ]
  },
  {
   "cell_type": "markdown",
   "metadata": {},
   "source": [
    "From previous testing, I have found that the `process_string` function may not always capture comments with non-english characters, so I use a proxy test of printing to a file."
   ]
  },
  {
   "cell_type": "code",
   "execution_count": 236,
   "metadata": {},
   "outputs": [
    {
     "name": "stdout",
     "output_type": "stream",
     "text": [
      "error count: 9\n",
      "empty count: 1251\n",
      "lines to remove: 1260\n"
     ]
    }
   ],
   "source": [
    "f = open(\"corpus_encoding_test.txt\", \"w\")\n",
    "lines_to_remove = []\n",
    "error_count = 0\n",
    "empty_count = 0\n",
    "for index, c in enumerate(training_data):\n",
    "    try:\n",
    "        print(c, file=f)\n",
    "        \n",
    "        if not c.strip():\n",
    "            lines_to_remove += [index]\n",
    "            empty_count += 1\n",
    "\n",
    "    except:\n",
    "        lines_to_remove += [index]\n",
    "        error_count += 1\n",
    "\n",
    "print(\"error count:\", error_count)\n",
    "print(\"empty count:\", empty_count)\n",
    "print(\"lines to remove:\", len(lines_to_remove))"
   ]
  },
  {
   "cell_type": "code",
   "execution_count": 237,
   "metadata": {},
   "outputs": [
    {
     "data": {
      "text/plain": [
       "(172574, 13)"
      ]
     },
     "execution_count": 237,
     "metadata": {},
     "output_type": "execute_result"
    }
   ],
   "source": [
    "processed_corpus = corpus_comments_df.drop(labels=lines_to_remove, axis=0, inplace=False)\n",
    "processed_corpus.shape"
   ]
  },
  {
   "cell_type": "markdown",
   "metadata": {},
   "source": [
    "Saving and adding easy access to upload our processed corpus."
   ]
  },
  {
   "cell_type": "code",
   "execution_count": 238,
   "metadata": {},
   "outputs": [],
   "source": [
    "processed_corpus.to_csv('./corpus/test_3/processed_100_50_comments.csv', index=False)"
   ]
  },
  {
   "cell_type": "code",
   "execution_count": 4,
   "metadata": {},
   "outputs": [],
   "source": [
    "processed_corpus = pd.read_csv('./corpus/test_3/processed_100_50_comments.csv')"
   ]
  },
  {
   "cell_type": "markdown",
   "metadata": {},
   "source": [
    "## Bot detection\n",
    "Currently there is no standardized service to detect bots from Reddit. Instead, as a proxy measure I will examine all repeated comments and remove them based on qualitative observation"
   ]
  },
  {
   "cell_type": "code",
   "execution_count": 240,
   "metadata": {},
   "outputs": [
    {
     "name": "stdout",
     "output_type": "stream",
     "text": [
      "160421\n",
      "12153\n"
     ]
    }
   ],
   "source": [
    "print(len(processed_corpus['body'].unique()))\n",
    "print(len(processed_corpus)-len(processed_corpus['body'].unique()))"
   ]
  },
  {
   "cell_type": "markdown",
   "metadata": {},
   "source": [
    "Out of 173,825 of the processed comments, 160,421 comments are unique, and 12,153 are duplicates."
   ]
  },
  {
   "cell_type": "markdown",
   "metadata": {},
   "source": [
    "First, let us consider deleted or removed comments. Comments deleted by the user will still be accessible to be scraped, but the body of the comment will be \"[removed]\" or \"[deleted]\"."
   ]
  },
  {
   "cell_type": "code",
   "execution_count": 241,
   "metadata": {},
   "outputs": [
    {
     "data": {
      "text/plain": [
       "2257"
      ]
     },
     "execution_count": 241,
     "metadata": {},
     "output_type": "execute_result"
    }
   ],
   "source": [
    "removed = len(processed_corpus[processed_corpus['body'] == \"[removed]\"])\n",
    "removed"
   ]
  },
  {
   "cell_type": "code",
   "execution_count": 242,
   "metadata": {},
   "outputs": [
    {
     "data": {
      "text/plain": [
       "5553"
      ]
     },
     "execution_count": 242,
     "metadata": {},
     "output_type": "execute_result"
    }
   ],
   "source": [
    "deleted = len(processed_corpus[processed_corpus['body'] == \"[deleted]\"])\n",
    "deleted"
   ]
  },
  {
   "cell_type": "code",
   "execution_count": 243,
   "metadata": {},
   "outputs": [
    {
     "data": {
      "text/plain": [
       "7810"
      ]
     },
     "execution_count": 243,
     "metadata": {},
     "output_type": "execute_result"
    }
   ],
   "source": [
    "removed+deleted"
   ]
  },
  {
   "cell_type": "code",
   "execution_count": 244,
   "metadata": {},
   "outputs": [
    {
     "data": {
      "text/plain": [
       "(164764, 13)"
      ]
     },
     "execution_count": 244,
     "metadata": {},
     "output_type": "execute_result"
    }
   ],
   "source": [
    "not_rem_del_corpus = processed_corpus[(processed_corpus['body'] != \"[deleted]\") & (processed_corpus['body'] != \"[removed]\")]\n",
    "not_rem_del_corpus.shape"
   ]
  },
  {
   "cell_type": "code",
   "execution_count": 245,
   "metadata": {},
   "outputs": [],
   "source": [
    "assert(len(not_rem_del_corpus) == len(processed_corpus) - (removed + deleted))"
   ]
  },
  {
   "cell_type": "markdown",
   "metadata": {},
   "source": [
    "We find that a total of 7,810 comments are deleted or removed comments from the original 12,153 comments that were duplicates. What about the remaining comments?"
   ]
  },
  {
   "cell_type": "code",
   "execution_count": 246,
   "metadata": {},
   "outputs": [
    {
     "name": "stdout",
     "output_type": "stream",
     "text": [
      "(6426, 13)\n"
     ]
    }
   ],
   "source": [
    "duplicated = not_rem_del_corpus[not_rem_del_corpus.duplicated(['body'], keep=False)]\n",
    "print(duplicated.shape)"
   ]
  },
  {
   "cell_type": "code",
   "execution_count": 247,
   "metadata": {},
   "outputs": [
    {
     "data": {
      "text/plain": [
       "body\n",
       "Thank you!                                                                                                                                                                                                                                                                                                                                                                                                                                                                                                                                                                                                                                                                                                                               139\n",
       "Thank you for posting to r/CanadaCoronavirus. Please read our [rules](https://www.reddit.com/r/canadacoronavirus/about/rules).\\n\\nPlease remember that all posts and comments should reflect factual, truth-based discussion. The purpose of this subreddit is to share trustworthy resources and ensure Canadians are as informed and educated as possible.\\n\\nWe will not tolerate racism, sexism, or harassment of any kind. \\n\\nAny comments or posts made contrary to these values will be subject to review by the Mod team\\n\\n\\n*I am a bot, and this action was performed automatically. Please [contact the moderators of this subreddit](/message/compose/?to=/r/CanadaCoronavirus) if you have any questions or concerns.*     93\n",
       "Yes                                                                                                                                                                                                                                                                                                                                                                                                                                                                                                                                                                                                                                                                                                                                       62\n",
       "Thank you                                                                                                                                                                                                                                                                                                                                                                                                                                                                                                                                                                                                                                                                                                                                 57\n",
       "Nice                                                                                                                                                                                                                                                                                                                                                                                                                                                                                                                                                                                                                                                                                                                                      57\n",
       "dtype: int64"
      ]
     },
     "execution_count": 247,
     "metadata": {},
     "output_type": "execute_result"
    }
   ],
   "source": [
    "duplicates = duplicated.pivot_table(columns=['body'], aggfunc='size').sort_values(ascending=False)\n",
    "duplicates.to_csv('./corpus/test_3/duplicates_100_50_comments.csv', index=False)\n",
    "duplicates.head()"
   ]
  },
  {
   "cell_type": "code",
   "execution_count": 248,
   "metadata": {},
   "outputs": [
    {
     "data": {
      "text/plain": [
       "(6426, 13)"
      ]
     },
     "execution_count": 248,
     "metadata": {},
     "output_type": "execute_result"
    }
   ],
   "source": [
    "duplicated.shape"
   ]
  },
  {
   "cell_type": "markdown",
   "metadata": {},
   "source": [
    "As seen by the 2nd top duplicated comment, some duplicated comments are from bots that rather helpfully identify themselves as bots. Such bots are often used for moderation, where the first comment on any post is automated and reminds users of the subreddit's moderation policies and comment guidelines. \n",
    "\n",
    "From a quick search in the duplicated comments I found many instances of the word \"bot\" or \"bots\" being used. While many explicitly stated \"I am a bot\" or \"I'm a bot\", other references were actual discussions revolving around bots. \n",
    "\n",
    "I also tested the word \"robot\", and found 3 instances, where 1 was actually a bot (stating \"I am a robot\") while the other two comments (each repeated twice) referenced Bill Gates being a robot and the \"robot government\".\n",
    "\n",
    "As I do not want to remove actual comments discussing bots, I will remove all comments that self identify as bots."
   ]
  },
  {
   "cell_type": "code",
   "execution_count": 249,
   "metadata": {},
   "outputs": [
    {
     "name": "stdout",
     "output_type": "stream",
     "text": [
      "(463, 13)\n",
      "body\n",
      "Thank you for posting to r/CanadaCoronavirus. Please read our [rules](https://www.reddit.com/r/canadacoronavirus/about/rules).\\n\\nPlease remember that all posts and comments should reflect factual, truth-based discussion. The purpose of this subreddit is to share trustworthy resources and ensure Canadians are as informed and educated as possible.\\n\\nWe will not tolerate racism, sexism, or harassment of any kind. \\n\\nAny comments or posts made contrary to these values will be subject to review by the Mod team\\n\\n\\n*I am a bot, and this action was performed automatically. Please [contact the moderators of this subreddit](/message/compose/?to=/r/CanadaCoronavirus) if you have any questions or concerns.*                                                                                                                                                                                                            93\n",
      "\\nWelcome to r/CoronavirusGA! We have some basic rules here. Here are the highlights:\\n\\n- Be civil. Personal attacks and accusations are not allowed. \\n\\n- Please attempt to use reliable sources. \\n\\n- No giving or soliciting medical advice. This includes verified health/medical professionals.\\n\\nHere are some useful links and/or projects for information/pass the time indoors:\\n\\n- ATL CoronaVirus Reddit @ /r/CoronavirusAtlanta\\n\\n- DISCORD @ https://discord.gg/Pgu9uAf - Learn Linux/Media Servers @ https://plexguide.com\\n\\n- TIPJAR for /u/N4BFR - Provides the Daily Maps for the GA-CV Reddit! Donate via - https://n4bfr.com/n4bfr-tip-jar/\\n\\n- Useful Coronavirus App via PC & Browser @ https://coronavirus.app \\n\\n\\n*I am a bot, and this action was performed automatically. Please [contact the moderators of this subreddit](/message/compose/?to=/r/CoronavirusGA) if you have any questions or concerns.*    53\n",
      "###[Meta] Sticky Comment\\n\\n[Rule 2](https://www.reddit.com/r/conspiracy/wiki/faq#wiki_2_-_address_the_argument.3B_not_the_user.2C_the_mods.2C_or_the_sub.) ***does not apply*** when replying to this stickied comment.  \\n\\n[Rule 2](https://www.reddit.com/r/conspiracy/wiki/faq#wiki_2_-_address_the_argument.3B_not_the_user.2C_the_mods.2C_or_the_sub.) ***does apply*** throughout the rest of this thread.\\n\\n*What this means*: Please keep any \"meta\" discussion directed at specific users, mods, or /r/conspiracy in general in this comment chain ***only.***\\n\\n*I am a bot, and this action was performed automatically. Please [contact the moderators of this subreddit](/message/compose/?to=/r/conspiracy) if you have any questions or concerns.*                                                                                                                                                                            40\n",
      "AM23: Your post requires Moderator review.  Please understand this measure is needed to ensure the quality of posts presented on /r/nCoV.\\n\\n*I am a bot, and this action was performed automatically. Please [contact the moderators of this subreddit](/message/compose/?to=/r/nCoV) if you have any questions or concerns.*                                                                                                                                                                                                                                                                                                                                                                                                                                                                                                                                                                                                                   37\n",
      "\\nWelcome to r/CoronavirusGA! We have some basic rules here. Here are the highlights:\\n\\n- Be civil. Personal attacks and accusations are not allowed. \\n\\n- Please attempt to use reliable sources. \\n\\n- No giving or soliciting medical advice. This includes verified health/medical professionals.\\n\\nPlease visit our Tiered Partners:\\n\\n- /r/CoronavirusSouthEast • /r/CoronaNC • /r/coronavirusSC • /r/CoronavirusAlabama • /r/CoronavirusAtlanta\\n\\nVisit our DISCORD @ https://discord.gg/Pgu9uAf \\n\\n\\n*I am a bot, and this action was performed automatically. Please [contact the moderators of this subreddit](/message/compose/?to=/r/CoronavirusGA) if you have any questions or concerns.*                                                                                                                                                                                                                                    23\n",
      "dtype: int64\n"
     ]
    },
    {
     "name": "stderr",
     "output_type": "stream",
     "text": [
      "C:\\Users\\qjuli\\AppData\\Local\\Temp/ipykernel_36340/1540027190.py:1: UserWarning: This pattern has match groups. To actually get the groups, use str.extract.\n",
      "  possible_bots = duplicated[duplicated['body'].str.contains('\\\\b(I am|I\\'m) a (ro)?bot\\\\b', regex=True)]\n"
     ]
    }
   ],
   "source": [
    "possible_bots = duplicated[duplicated['body'].str.contains('\\\\b(I am|I\\'m) a (ro)?bot\\\\b', regex=True)]\n",
    "print(possible_bots.shape)\n",
    "\n",
    "duplicated_bots = possible_bots.pivot_table(columns=['body'], aggfunc='size').sort_values(ascending=False)\n",
    "duplicated_bots.to_csv('./corpus/test_3/duplicated_bots_100_50_comments.csv', index=False)\n",
    "\n",
    "print(duplicated_bots.head())"
   ]
  },
  {
   "cell_type": "markdown",
   "metadata": {},
   "source": [
    "Now let us remove all 463 self-identifying bots from the corpus."
   ]
  },
  {
   "cell_type": "code",
   "execution_count": 250,
   "metadata": {},
   "outputs": [
    {
     "name": "stderr",
     "output_type": "stream",
     "text": [
      "C:\\Users\\qjuli\\AppData\\Local\\Temp/ipykernel_36340/1572140565.py:1: UserWarning: This pattern has match groups. To actually get the groups, use str.extract.\n",
      "  not_rem_del_bot_corpus = not_rem_del_corpus[~not_rem_del_corpus['body'].str.contains('\\\\b(I am|I\\'m) a (ro)?bot\\\\b', regex=True)]\n"
     ]
    },
    {
     "name": "stdout",
     "output_type": "stream",
     "text": [
      "(164764, 13)\n",
      "(164101, 13)\n"
     ]
    }
   ],
   "source": [
    "not_rem_del_bot_corpus = not_rem_del_corpus[~not_rem_del_corpus['body'].str.contains('\\\\b(I am|I\\'m) a (ro)?bot\\\\b', regex=True)]\n",
    "print(not_rem_del_corpus.shape)\n",
    "print(not_rem_del_bot_corpus.shape)"
   ]
  },
  {
   "cell_type": "markdown",
   "metadata": {},
   "source": [
    "Now let's save our processed corpus where the removed and deleted, as well as self identifying as bots comments have been removed."
   ]
  },
  {
   "cell_type": "code",
   "execution_count": 251,
   "metadata": {},
   "outputs": [
    {
     "data": {
      "text/html": [
       "<div>\n",
       "<style scoped>\n",
       "    .dataframe tbody tr th:only-of-type {\n",
       "        vertical-align: middle;\n",
       "    }\n",
       "\n",
       "    .dataframe tbody tr th {\n",
       "        vertical-align: top;\n",
       "    }\n",
       "\n",
       "    .dataframe thead th {\n",
       "        text-align: right;\n",
       "    }\n",
       "</style>\n",
       "<table border=\"1\" class=\"dataframe\">\n",
       "  <thead>\n",
       "    <tr style=\"text-align: right;\">\n",
       "      <th></th>\n",
       "      <th>Unnamed: 0</th>\n",
       "      <th>subreddit_name</th>\n",
       "      <th>quarantined</th>\n",
       "      <th>post_id</th>\n",
       "      <th>comment_id</th>\n",
       "      <th>permalink</th>\n",
       "      <th>author</th>\n",
       "      <th>created_utc</th>\n",
       "      <th>score</th>\n",
       "      <th>awards</th>\n",
       "      <th>stickied</th>\n",
       "      <th>edited</th>\n",
       "      <th>body</th>\n",
       "    </tr>\n",
       "  </thead>\n",
       "  <tbody>\n",
       "    <tr>\n",
       "      <th>0</th>\n",
       "      <td>0</td>\n",
       "      <td>Vaccines</td>\n",
       "      <td>0</td>\n",
       "      <td>t3_k5zbnn</td>\n",
       "      <td>geili74</td>\n",
       "      <td>/r/VACCINES/comments/k5zbnn/raised_antivaxx_an...</td>\n",
       "      <td>rolacl</td>\n",
       "      <td>1.607023e+09</td>\n",
       "      <td>3</td>\n",
       "      <td>[]</td>\n",
       "      <td>False</td>\n",
       "      <td>False</td>\n",
       "      <td>Good for you girl. 💪🏻💪🏻</td>\n",
       "    </tr>\n",
       "    <tr>\n",
       "      <th>1</th>\n",
       "      <td>1</td>\n",
       "      <td>Vaccines</td>\n",
       "      <td>0</td>\n",
       "      <td>t3_k5zbnn</td>\n",
       "      <td>gej1b2u</td>\n",
       "      <td>/r/VACCINES/comments/k5zbnn/raised_antivaxx_an...</td>\n",
       "      <td>NaN</td>\n",
       "      <td>1.607030e+09</td>\n",
       "      <td>2</td>\n",
       "      <td>[]</td>\n",
       "      <td>False</td>\n",
       "      <td>False</td>\n",
       "      <td>Congrats friend! Welcome out of the dark ages!</td>\n",
       "    </tr>\n",
       "    <tr>\n",
       "      <th>2</th>\n",
       "      <td>2</td>\n",
       "      <td>Vaccines</td>\n",
       "      <td>0</td>\n",
       "      <td>t3_k5zbnn</td>\n",
       "      <td>gej3jkj</td>\n",
       "      <td>/r/VACCINES/comments/k5zbnn/raised_antivaxx_an...</td>\n",
       "      <td>MBmondongo</td>\n",
       "      <td>1.607031e+09</td>\n",
       "      <td>1</td>\n",
       "      <td>[]</td>\n",
       "      <td>False</td>\n",
       "      <td>False</td>\n",
       "      <td>I love this!</td>\n",
       "    </tr>\n",
       "    <tr>\n",
       "      <th>4</th>\n",
       "      <td>4</td>\n",
       "      <td>Vaccines</td>\n",
       "      <td>0</td>\n",
       "      <td>t3_k5zbnn</td>\n",
       "      <td>gek56u9</td>\n",
       "      <td>/r/VACCINES/comments/k5zbnn/raised_antivaxx_an...</td>\n",
       "      <td>teensforvaxx</td>\n",
       "      <td>1.607052e+09</td>\n",
       "      <td>1</td>\n",
       "      <td>[]</td>\n",
       "      <td>False</td>\n",
       "      <td>False</td>\n",
       "      <td>Hey there! Congrats on getting vaccinated! Gav...</td>\n",
       "    </tr>\n",
       "    <tr>\n",
       "      <th>5</th>\n",
       "      <td>5</td>\n",
       "      <td>Vaccines</td>\n",
       "      <td>0</td>\n",
       "      <td>t3_k5zbnn</td>\n",
       "      <td>gel63k1</td>\n",
       "      <td>/r/VACCINES/comments/k5zbnn/raised_antivaxx_an...</td>\n",
       "      <td>someth1ng_au</td>\n",
       "      <td>1.607083e+09</td>\n",
       "      <td>1</td>\n",
       "      <td>[]</td>\n",
       "      <td>False</td>\n",
       "      <td>False</td>\n",
       "      <td>I'm glad you lived long enough to get the shots!</td>\n",
       "    </tr>\n",
       "  </tbody>\n",
       "</table>\n",
       "</div>"
      ],
      "text/plain": [
       "   Unnamed: 0 subreddit_name  quarantined    post_id comment_id  \\\n",
       "0           0       Vaccines            0  t3_k5zbnn    geili74   \n",
       "1           1       Vaccines            0  t3_k5zbnn    gej1b2u   \n",
       "2           2       Vaccines            0  t3_k5zbnn    gej3jkj   \n",
       "4           4       Vaccines            0  t3_k5zbnn    gek56u9   \n",
       "5           5       Vaccines            0  t3_k5zbnn    gel63k1   \n",
       "\n",
       "                                           permalink        author  \\\n",
       "0  /r/VACCINES/comments/k5zbnn/raised_antivaxx_an...        rolacl   \n",
       "1  /r/VACCINES/comments/k5zbnn/raised_antivaxx_an...           NaN   \n",
       "2  /r/VACCINES/comments/k5zbnn/raised_antivaxx_an...    MBmondongo   \n",
       "4  /r/VACCINES/comments/k5zbnn/raised_antivaxx_an...  teensforvaxx   \n",
       "5  /r/VACCINES/comments/k5zbnn/raised_antivaxx_an...  someth1ng_au   \n",
       "\n",
       "    created_utc  score awards  stickied edited  \\\n",
       "0  1.607023e+09      3     []     False  False   \n",
       "1  1.607030e+09      2     []     False  False   \n",
       "2  1.607031e+09      1     []     False  False   \n",
       "4  1.607052e+09      1     []     False  False   \n",
       "5  1.607083e+09      1     []     False  False   \n",
       "\n",
       "                                                body  \n",
       "0                            Good for you girl. 💪🏻💪🏻  \n",
       "1     Congrats friend! Welcome out of the dark ages!  \n",
       "2                                       I love this!  \n",
       "4  Hey there! Congrats on getting vaccinated! Gav...  \n",
       "5   I'm glad you lived long enough to get the shots!  "
      ]
     },
     "execution_count": 251,
     "metadata": {},
     "output_type": "execute_result"
    }
   ],
   "source": [
    "not_rem_del_bot_corpus.head()"
   ]
  },
  {
   "cell_type": "markdown",
   "metadata": {},
   "source": [
    "Let's take a moment to remove our \"Unnamed\" column, which was from a previous call to the `to_csv` function without the parameter `index` being set to `False`."
   ]
  },
  {
   "cell_type": "code",
   "execution_count": 252,
   "metadata": {},
   "outputs": [
    {
     "name": "stdout",
     "output_type": "stream",
     "text": [
      "  subreddit_name  quarantined    post_id comment_id  \\\n",
      "0       Vaccines            0  t3_k5zbnn    geili74   \n",
      "1       Vaccines            0  t3_k5zbnn    gej1b2u   \n",
      "2       Vaccines            0  t3_k5zbnn    gej3jkj   \n",
      "4       Vaccines            0  t3_k5zbnn    gek56u9   \n",
      "5       Vaccines            0  t3_k5zbnn    gel63k1   \n",
      "\n",
      "                                           permalink        author  \\\n",
      "0  /r/VACCINES/comments/k5zbnn/raised_antivaxx_an...        rolacl   \n",
      "1  /r/VACCINES/comments/k5zbnn/raised_antivaxx_an...           NaN   \n",
      "2  /r/VACCINES/comments/k5zbnn/raised_antivaxx_an...    MBmondongo   \n",
      "4  /r/VACCINES/comments/k5zbnn/raised_antivaxx_an...  teensforvaxx   \n",
      "5  /r/VACCINES/comments/k5zbnn/raised_antivaxx_an...  someth1ng_au   \n",
      "\n",
      "    created_utc  score awards  stickied edited  \\\n",
      "0  1.607023e+09      3     []     False  False   \n",
      "1  1.607030e+09      2     []     False  False   \n",
      "2  1.607031e+09      1     []     False  False   \n",
      "4  1.607052e+09      1     []     False  False   \n",
      "5  1.607083e+09      1     []     False  False   \n",
      "\n",
      "                                                body  \n",
      "0                            Good for you girl. 💪🏻💪🏻  \n",
      "1     Congrats friend! Welcome out of the dark ages!  \n",
      "2                                       I love this!  \n",
      "4  Hey there! Congrats on getting vaccinated! Gav...  \n",
      "5   I'm glad you lived long enough to get the shots!  \n",
      "(164101, 12)\n"
     ]
    },
    {
     "name": "stderr",
     "output_type": "stream",
     "text": [
      "C:\\Users\\qjuli\\AppData\\Local\\Packages\\PythonSoftwareFoundation.Python.3.9_qbz5n2kfra8p0\\LocalCache\\local-packages\\Python39\\site-packages\\pandas\\core\\frame.py:4901: SettingWithCopyWarning: \n",
      "A value is trying to be set on a copy of a slice from a DataFrame\n",
      "\n",
      "See the caveats in the documentation: https://pandas.pydata.org/pandas-docs/stable/user_guide/indexing.html#returning-a-view-versus-a-copy\n",
      "  return super().drop(\n"
     ]
    }
   ],
   "source": [
    "columns = [\"Unnamed: 0\"]\n",
    "not_rem_del_bot_corpus.drop(labels=columns, axis = 1, inplace=True)\n",
    "print(not_rem_del_bot_corpus.head())\n",
    "print(not_rem_del_bot_corpus.shape)"
   ]
  },
  {
   "cell_type": "code",
   "execution_count": 253,
   "metadata": {},
   "outputs": [],
   "source": [
    "not_rem_del_bot_corpus.to_csv('./corpus/test_3/processed_rem_del_bot_100_50_comments.csv', index=False)"
   ]
  },
  {
   "cell_type": "code",
   "execution_count": 254,
   "metadata": {},
   "outputs": [
    {
     "name": "stdout",
     "output_type": "stream",
     "text": [
      "  subreddit_name  quarantined    post_id comment_id  \\\n",
      "0       Vaccines            0  t3_k5zbnn    geili74   \n",
      "1       Vaccines            0  t3_k5zbnn    gej1b2u   \n",
      "2       Vaccines            0  t3_k5zbnn    gej3jkj   \n",
      "3       Vaccines            0  t3_k5zbnn    gek56u9   \n",
      "4       Vaccines            0  t3_k5zbnn    gel63k1   \n",
      "\n",
      "                                           permalink        author  \\\n",
      "0  /r/VACCINES/comments/k5zbnn/raised_antivaxx_an...        rolacl   \n",
      "1  /r/VACCINES/comments/k5zbnn/raised_antivaxx_an...           NaN   \n",
      "2  /r/VACCINES/comments/k5zbnn/raised_antivaxx_an...    MBmondongo   \n",
      "3  /r/VACCINES/comments/k5zbnn/raised_antivaxx_an...  teensforvaxx   \n",
      "4  /r/VACCINES/comments/k5zbnn/raised_antivaxx_an...  someth1ng_au   \n",
      "\n",
      "    created_utc  score awards  stickied edited  \\\n",
      "0  1.607023e+09      3     []     False  False   \n",
      "1  1.607030e+09      2     []     False  False   \n",
      "2  1.607031e+09      1     []     False  False   \n",
      "3  1.607052e+09      1     []     False  False   \n",
      "4  1.607083e+09      1     []     False  False   \n",
      "\n",
      "                                                body  \n",
      "0                            Good for you girl. 💪🏻💪🏻  \n",
      "1     Congrats friend! Welcome out of the dark ages!  \n",
      "2                                       I love this!  \n",
      "3  Hey there! Congrats on getting vaccinated! Gav...  \n",
      "4   I'm glad you lived long enough to get the shots!  \n",
      "(164101, 12)\n"
     ]
    }
   ],
   "source": [
    "corpus_df = pd.read_csv('./corpus/test_3/processed_rem_del_bot_100_50_comments.csv')\n",
    "print(corpus_df.head())\n",
    "print(corpus_df.shape)"
   ]
  },
  {
   "cell_type": "markdown",
   "metadata": {},
   "source": [
    "## Comment Visualizations"
   ]
  },
  {
   "cell_type": "code",
   "execution_count": 255,
   "metadata": {},
   "outputs": [
    {
     "name": "stdout",
     "output_type": "stream",
     "text": [
      "15523\n",
      "       subreddit_name  quarantined    post_id comment_id  \\\n",
      "148578      Plandemic            1  t3_mli82e    gtljfxo   \n",
      "148579      Plandemic            1  t3_mli82e    gtp8mvx   \n",
      "148580      Plandemic            1  t3_gqdcqz    frs42rc   \n",
      "148581      Plandemic            1  t3_gqdcqz    frs40du   \n",
      "148582      Plandemic            1  t3_gqdcqz    frsp9ka   \n",
      "\n",
      "                                                permalink     author  \\\n",
      "148578  /r/Plandemic/comments/mli82e/ucoronavirusus_co...   vfclists   \n",
      "148579  /r/Plandemic/comments/mli82e/ucoronavirusus_co...     tarkay   \n",
      "148580  /r/Plandemic/comments/gqdcqz/the_cdc_confirms_...     tarkay   \n",
      "148581  /r/Plandemic/comments/gqdcqz/the_cdc_confirms_...     tarkay   \n",
      "148582  /r/Plandemic/comments/gqdcqz/the_cdc_confirms_...  BohdiZafa   \n",
      "\n",
      "         created_utc  score awards  stickied edited  \\\n",
      "148578  1.617734e+09      2     []     False  False   \n",
      "148579  1.617811e+09      2     []     False  False   \n",
      "148580  1.590424e+09      5     []     False  False   \n",
      "148581  1.590424e+09      4     []     False  False   \n",
      "148582  1.590435e+09      3     []     False  False   \n",
      "\n",
      "                                                     body  \n",
      "148578                        You couldn't make this up!!  \n",
      "148579  OMG...these people are domestic terrorists...d...  \n",
      "148580                      Why isn't MSM reporting this?  \n",
      "148581  Another source: Coronavirus fatality rate coul...  \n",
      "148582  In before reddit's anti-evil operations commie...  \n"
     ]
    }
   ],
   "source": [
    "corpus_df = pd.read_csv('./corpus/test_3/processed_rem_del_bot_100_50_comments.csv')\n",
    "quarantined_df = corpus_df[corpus_df[\"quarantined\"] == 1]\n",
    "print(len(quarantined_df.index))\n",
    "print(quarantined_df.head())"
   ]
  },
  {
   "cell_type": "code",
   "execution_count": 256,
   "metadata": {},
   "outputs": [
    {
     "name": "stdout",
     "output_type": "stream",
     "text": [
      "148578\n",
      "  subreddit_name  quarantined    post_id comment_id  \\\n",
      "0       Vaccines            0  t3_k5zbnn    geili74   \n",
      "1       Vaccines            0  t3_k5zbnn    gej1b2u   \n",
      "2       Vaccines            0  t3_k5zbnn    gej3jkj   \n",
      "3       Vaccines            0  t3_k5zbnn    gek56u9   \n",
      "4       Vaccines            0  t3_k5zbnn    gel63k1   \n",
      "\n",
      "                                           permalink        author  \\\n",
      "0  /r/VACCINES/comments/k5zbnn/raised_antivaxx_an...        rolacl   \n",
      "1  /r/VACCINES/comments/k5zbnn/raised_antivaxx_an...           NaN   \n",
      "2  /r/VACCINES/comments/k5zbnn/raised_antivaxx_an...    MBmondongo   \n",
      "3  /r/VACCINES/comments/k5zbnn/raised_antivaxx_an...  teensforvaxx   \n",
      "4  /r/VACCINES/comments/k5zbnn/raised_antivaxx_an...  someth1ng_au   \n",
      "\n",
      "    created_utc  score awards  stickied edited  \\\n",
      "0  1.607023e+09      3     []     False  False   \n",
      "1  1.607030e+09      2     []     False  False   \n",
      "2  1.607031e+09      1     []     False  False   \n",
      "3  1.607052e+09      1     []     False  False   \n",
      "4  1.607083e+09      1     []     False  False   \n",
      "\n",
      "                                                body  \n",
      "0                            Good for you girl. 💪🏻💪🏻  \n",
      "1     Congrats friend! Welcome out of the dark ages!  \n",
      "2                                       I love this!  \n",
      "3  Hey there! Congrats on getting vaccinated! Gav...  \n",
      "4   I'm glad you lived long enough to get the shots!  \n"
     ]
    }
   ],
   "source": [
    "non_quarantined_df = corpus_df[corpus_df[\"quarantined\"] == 0]\n",
    "print(len(non_quarantined_df.index))\n",
    "print(non_quarantined_df.head())"
   ]
  },
  {
   "cell_type": "code",
   "execution_count": 257,
   "metadata": {},
   "outputs": [],
   "source": [
    "from reddit_quarantined_scraper_args import non_quarantined_subreddits, quarantined_subreddits\n",
    "\n",
    "quarantined_subreddits = quarantined_subreddits()\n",
    "non_quarantined_subreddits = non_quarantined_subreddits()\n",
    "\n",
    "q_comment_count = []\n",
    "comment_count = []\n",
    "\n",
    "for q_s in quarantined_subreddits:\n",
    "    q_s_df = quarantined_df[quarantined_df[\"subreddit_name\"]==q_s]\n",
    "    q_comment_count.append(len(q_s_df.index))\n",
    "\n",
    "for s in non_quarantined_subreddits:\n",
    "    s_df = non_quarantined_df[non_quarantined_df[\"subreddit_name\"]==s]\n",
    "    comment_count.append(len(s_df.index))\n",
    "\n",
    "q_df = pd.DataFrame({'comments': q_comment_count}, index=quarantined_subreddits)\n",
    "n_q_df = pd.DataFrame({'comments': comment_count}, index=non_quarantined_subreddits)\n",
    "\n",
    "q_df = q_df.sort_values(by='comments')\n",
    "n_q_df = n_q_df.sort_values(by='comments')"
   ]
  },
  {
   "cell_type": "code",
   "execution_count": 258,
   "metadata": {},
   "outputs": [
    {
     "data": {
      "text/plain": [
       "[[Text(0, 0, ''),\n",
       "  Text(1, 0, ''),\n",
       "  Text(2, 0, ''),\n",
       "  Text(3, 0, ''),\n",
       "  Text(4, 0, ''),\n",
       "  Text(5, 0, ''),\n",
       "  Text(6, 0, ''),\n",
       "  Text(7, 0, ''),\n",
       "  Text(8, 0, ''),\n",
       "  Text(9, 0, ''),\n",
       "  Text(10, 0, ''),\n",
       "  Text(11, 0, ''),\n",
       "  Text(12, 0, ''),\n",
       "  Text(13, 0, ''),\n",
       "  Text(14, 0, ''),\n",
       "  Text(15, 0, ''),\n",
       "  Text(16, 0, ''),\n",
       "  Text(17, 0, ''),\n",
       "  Text(18, 0, ''),\n",
       "  Text(19, 0, ''),\n",
       "  Text(20, 0, ''),\n",
       "  Text(21, 0, ''),\n",
       "  Text(22, 0, ''),\n",
       "  Text(23, 0, ''),\n",
       "  Text(24, 0, ''),\n",
       "  Text(25, 0, ''),\n",
       "  Text(26, 0, ''),\n",
       "  Text(27, 0, ''),\n",
       "  Text(28, 0, ''),\n",
       "  Text(29, 0, ''),\n",
       "  Text(30, 0, ''),\n",
       "  Text(31, 0, ''),\n",
       "  Text(32, 0, ''),\n",
       "  Text(33, 0, ''),\n",
       "  Text(34, 0, ''),\n",
       "  Text(35, 0, ''),\n",
       "  Text(36, 0, ''),\n",
       "  Text(37, 0, ''),\n",
       "  Text(38, 0, ''),\n",
       "  Text(39, 0, ''),\n",
       "  Text(40, 0, ''),\n",
       "  Text(41, 0, ''),\n",
       "  Text(42, 0, ''),\n",
       "  Text(43, 0, ''),\n",
       "  Text(44, 0, ''),\n",
       "  Text(45, 0, ''),\n",
       "  Text(46, 0, ''),\n",
       "  Text(47, 0, ''),\n",
       "  Text(48, 0, ''),\n",
       "  Text(49, 0, ''),\n",
       "  Text(50, 0, '')]]"
      ]
     },
     "execution_count": 258,
     "metadata": {},
     "output_type": "execute_result"
    },
    {
     "data": {
      "image/png": "[encoded data removed]",
      "text/plain": [
       "<Figure size 432x288 with 1 Axes>"
      ]
     },
     "metadata": {
      "needs_background": "light"
     },
     "output_type": "display_data"
    }
   ],
   "source": [
    "ax = q_df.plot.bar(title=\"Comments per Quarantined Subredddits\", rot=0)\n",
    "ax.set(xticklabels=[])"
   ]
  },
  {
   "cell_type": "code",
   "execution_count": 259,
   "metadata": {},
   "outputs": [
    {
     "data": {
      "text/plain": [
       "[[Text(0, 0, ''),\n",
       "  Text(1, 0, ''),\n",
       "  Text(2, 0, ''),\n",
       "  Text(3, 0, ''),\n",
       "  Text(4, 0, ''),\n",
       "  Text(5, 0, ''),\n",
       "  Text(6, 0, ''),\n",
       "  Text(7, 0, ''),\n",
       "  Text(8, 0, ''),\n",
       "  Text(9, 0, ''),\n",
       "  Text(10, 0, ''),\n",
       "  Text(11, 0, ''),\n",
       "  Text(12, 0, ''),\n",
       "  Text(13, 0, ''),\n",
       "  Text(14, 0, ''),\n",
       "  Text(15, 0, ''),\n",
       "  Text(16, 0, ''),\n",
       "  Text(17, 0, ''),\n",
       "  Text(18, 0, ''),\n",
       "  Text(19, 0, ''),\n",
       "  Text(20, 0, ''),\n",
       "  Text(21, 0, ''),\n",
       "  Text(22, 0, ''),\n",
       "  Text(23, 0, ''),\n",
       "  Text(24, 0, ''),\n",
       "  Text(25, 0, ''),\n",
       "  Text(26, 0, ''),\n",
       "  Text(27, 0, ''),\n",
       "  Text(28, 0, ''),\n",
       "  Text(29, 0, ''),\n",
       "  Text(30, 0, ''),\n",
       "  Text(31, 0, ''),\n",
       "  Text(32, 0, ''),\n",
       "  Text(33, 0, ''),\n",
       "  Text(34, 0, ''),\n",
       "  Text(35, 0, ''),\n",
       "  Text(36, 0, ''),\n",
       "  Text(37, 0, ''),\n",
       "  Text(38, 0, ''),\n",
       "  Text(39, 0, ''),\n",
       "  Text(40, 0, ''),\n",
       "  Text(41, 0, ''),\n",
       "  Text(42, 0, ''),\n",
       "  Text(43, 0, ''),\n",
       "  Text(44, 0, ''),\n",
       "  Text(45, 0, ''),\n",
       "  Text(46, 0, ''),\n",
       "  Text(47, 0, ''),\n",
       "  Text(48, 0, ''),\n",
       "  Text(49, 0, ''),\n",
       "  Text(50, 0, ''),\n",
       "  Text(51, 0, ''),\n",
       "  Text(52, 0, ''),\n",
       "  Text(53, 0, ''),\n",
       "  Text(54, 0, ''),\n",
       "  Text(55, 0, ''),\n",
       "  Text(56, 0, '')]]"
      ]
     },
     "execution_count": 259,
     "metadata": {},
     "output_type": "execute_result"
    },
    {
     "data": {
      "image/png": "[encoded data removed]",
      "text/plain": [
       "<Figure size 432x288 with 1 Axes>"
      ]
     },
     "metadata": {
      "needs_background": "light"
     },
     "output_type": "display_data"
    }
   ],
   "source": [
    "ax = n_q_df.plot.bar(title=\"Comments per Non Quarantined Subredddits\", rot=0)\n",
    "ax.set(xticklabels=[])"
   ]
  },
  {
   "cell_type": "code",
   "execution_count": 260,
   "metadata": {},
   "outputs": [
    {
     "data": {
      "image/png": "[encoded data removed]",
      "text/plain": [
       "<Figure size 432x288 with 1 Axes>"
      ]
     },
     "metadata": {
      "needs_background": "light"
     },
     "output_type": "display_data"
    }
   ],
   "source": [
    "# now a bar chart of them combined\n",
    "index = ['quarantined', 'non_quarantined']\n",
    "total_comments = [len(quarantined_df.index), len(non_quarantined_df.index)]\n",
    "combined_df = pd.DataFrame({'comments': total_comments}, index=index)\n",
    "ax = combined_df.plot.bar(title=\"Total Comments\", rot=0)"
   ]
  },
  {
   "cell_type": "markdown",
   "metadata": {},
   "source": [
    "## Tokenizing and Counting Tokens"
   ]
  },
  {
   "cell_type": "code",
   "execution_count": 11,
   "metadata": {},
   "outputs": [],
   "source": [
    "from nltk.corpus import stopwords\n",
    "from nltk.tokenize import RegexpTokenizer, TweetTokenizer\n",
    "\n",
    "tk = TweetTokenizer()"
   ]
  },
  {
   "cell_type": "code",
   "execution_count": 262,
   "metadata": {},
   "outputs": [
    {
     "data": {
      "text/html": [
       "<div>\n",
       "<style scoped>\n",
       "    .dataframe tbody tr th:only-of-type {\n",
       "        vertical-align: middle;\n",
       "    }\n",
       "\n",
       "    .dataframe tbody tr th {\n",
       "        vertical-align: top;\n",
       "    }\n",
       "\n",
       "    .dataframe thead th {\n",
       "        text-align: right;\n",
       "    }\n",
       "</style>\n",
       "<table border=\"1\" class=\"dataframe\">\n",
       "  <thead>\n",
       "    <tr style=\"text-align: right;\">\n",
       "      <th></th>\n",
       "      <th>subreddit_name</th>\n",
       "      <th>quarantined</th>\n",
       "      <th>post_id</th>\n",
       "      <th>comment_id</th>\n",
       "      <th>permalink</th>\n",
       "      <th>author</th>\n",
       "      <th>created_utc</th>\n",
       "      <th>score</th>\n",
       "      <th>awards</th>\n",
       "      <th>stickied</th>\n",
       "      <th>edited</th>\n",
       "      <th>body</th>\n",
       "      <th>tokens</th>\n",
       "      <th>num_tokens</th>\n",
       "    </tr>\n",
       "  </thead>\n",
       "  <tbody>\n",
       "    <tr>\n",
       "      <th>0</th>\n",
       "      <td>Vaccines</td>\n",
       "      <td>0</td>\n",
       "      <td>t3_k5zbnn</td>\n",
       "      <td>geili74</td>\n",
       "      <td>/r/VACCINES/comments/k5zbnn/raised_antivaxx_an...</td>\n",
       "      <td>rolacl</td>\n",
       "      <td>1.607023e+09</td>\n",
       "      <td>3</td>\n",
       "      <td>[]</td>\n",
       "      <td>False</td>\n",
       "      <td>False</td>\n",
       "      <td>Good for you girl. 💪🏻💪🏻</td>\n",
       "      <td>None</td>\n",
       "      <td>0</td>\n",
       "    </tr>\n",
       "    <tr>\n",
       "      <th>1</th>\n",
       "      <td>Vaccines</td>\n",
       "      <td>0</td>\n",
       "      <td>t3_k5zbnn</td>\n",
       "      <td>gej1b2u</td>\n",
       "      <td>/r/VACCINES/comments/k5zbnn/raised_antivaxx_an...</td>\n",
       "      <td>NaN</td>\n",
       "      <td>1.607030e+09</td>\n",
       "      <td>2</td>\n",
       "      <td>[]</td>\n",
       "      <td>False</td>\n",
       "      <td>False</td>\n",
       "      <td>Congrats friend! Welcome out of the dark ages!</td>\n",
       "      <td>None</td>\n",
       "      <td>0</td>\n",
       "    </tr>\n",
       "    <tr>\n",
       "      <th>2</th>\n",
       "      <td>Vaccines</td>\n",
       "      <td>0</td>\n",
       "      <td>t3_k5zbnn</td>\n",
       "      <td>gej3jkj</td>\n",
       "      <td>/r/VACCINES/comments/k5zbnn/raised_antivaxx_an...</td>\n",
       "      <td>MBmondongo</td>\n",
       "      <td>1.607031e+09</td>\n",
       "      <td>1</td>\n",
       "      <td>[]</td>\n",
       "      <td>False</td>\n",
       "      <td>False</td>\n",
       "      <td>I love this!</td>\n",
       "      <td>None</td>\n",
       "      <td>0</td>\n",
       "    </tr>\n",
       "    <tr>\n",
       "      <th>3</th>\n",
       "      <td>Vaccines</td>\n",
       "      <td>0</td>\n",
       "      <td>t3_k5zbnn</td>\n",
       "      <td>gek56u9</td>\n",
       "      <td>/r/VACCINES/comments/k5zbnn/raised_antivaxx_an...</td>\n",
       "      <td>teensforvaxx</td>\n",
       "      <td>1.607052e+09</td>\n",
       "      <td>1</td>\n",
       "      <td>[]</td>\n",
       "      <td>False</td>\n",
       "      <td>False</td>\n",
       "      <td>Hey there! Congrats on getting vaccinated! Gav...</td>\n",
       "      <td>None</td>\n",
       "      <td>0</td>\n",
       "    </tr>\n",
       "    <tr>\n",
       "      <th>4</th>\n",
       "      <td>Vaccines</td>\n",
       "      <td>0</td>\n",
       "      <td>t3_k5zbnn</td>\n",
       "      <td>gel63k1</td>\n",
       "      <td>/r/VACCINES/comments/k5zbnn/raised_antivaxx_an...</td>\n",
       "      <td>someth1ng_au</td>\n",
       "      <td>1.607083e+09</td>\n",
       "      <td>1</td>\n",
       "      <td>[]</td>\n",
       "      <td>False</td>\n",
       "      <td>False</td>\n",
       "      <td>I'm glad you lived long enough to get the shots!</td>\n",
       "      <td>None</td>\n",
       "      <td>0</td>\n",
       "    </tr>\n",
       "    <tr>\n",
       "      <th>...</th>\n",
       "      <td>...</td>\n",
       "      <td>...</td>\n",
       "      <td>...</td>\n",
       "      <td>...</td>\n",
       "      <td>...</td>\n",
       "      <td>...</td>\n",
       "      <td>...</td>\n",
       "      <td>...</td>\n",
       "      <td>...</td>\n",
       "      <td>...</td>\n",
       "      <td>...</td>\n",
       "      <td>...</td>\n",
       "      <td>...</td>\n",
       "      <td>...</td>\n",
       "    </tr>\n",
       "    <tr>\n",
       "      <th>164096</th>\n",
       "      <td>VaccineHomicide</td>\n",
       "      <td>1</td>\n",
       "      <td>t3_p06hgg</td>\n",
       "      <td>h84nnqw</td>\n",
       "      <td>/r/VaccineHomicide/comments/p06hgg/get_the_sho...</td>\n",
       "      <td>polymath22</td>\n",
       "      <td>1.628392e+09</td>\n",
       "      <td>5</td>\n",
       "      <td>[]</td>\n",
       "      <td>False</td>\n",
       "      <td>False</td>\n",
       "      <td>/r/VaccineCultVictims</td>\n",
       "      <td>None</td>\n",
       "      <td>0</td>\n",
       "    </tr>\n",
       "    <tr>\n",
       "      <th>164097</th>\n",
       "      <td>AntiVaccineMemes</td>\n",
       "      <td>1</td>\n",
       "      <td>t3_mzvoak</td>\n",
       "      <td>gwstopg</td>\n",
       "      <td>/r/AntiVaccineMemes/comments/mzvoak/anti_vaxxe...</td>\n",
       "      <td>LegoJack</td>\n",
       "      <td>1.620060e+09</td>\n",
       "      <td>1</td>\n",
       "      <td>[]</td>\n",
       "      <td>False</td>\n",
       "      <td>False</td>\n",
       "      <td>lol.\\n\\n Submissions are restricted on this co...</td>\n",
       "      <td>None</td>\n",
       "      <td>0</td>\n",
       "    </tr>\n",
       "    <tr>\n",
       "      <th>164098</th>\n",
       "      <td>AntiVaccineMemes</td>\n",
       "      <td>1</td>\n",
       "      <td>t3_mzvoak</td>\n",
       "      <td>gx58ta0</td>\n",
       "      <td>/r/AntiVaccineMemes/comments/mzvoak/anti_vaxxe...</td>\n",
       "      <td>balfringRetro</td>\n",
       "      <td>1.620306e+09</td>\n",
       "      <td>1</td>\n",
       "      <td>[]</td>\n",
       "      <td>False</td>\n",
       "      <td>False</td>\n",
       "      <td>Look mom, I'm on TV !</td>\n",
       "      <td>None</td>\n",
       "      <td>0</td>\n",
       "    </tr>\n",
       "    <tr>\n",
       "      <th>164099</th>\n",
       "      <td>AntiVaccineMemes</td>\n",
       "      <td>1</td>\n",
       "      <td>t3_mzvoak</td>\n",
       "      <td>gwsttsc</td>\n",
       "      <td>/r/AntiVaccineMemes/comments/mzvoak/anti_vaxxe...</td>\n",
       "      <td>polymath22</td>\n",
       "      <td>1.620060e+09</td>\n",
       "      <td>2</td>\n",
       "      <td>[]</td>\n",
       "      <td>False</td>\n",
       "      <td>False</td>\n",
       "      <td>try it now.\\n\\nbut be careful what you post</td>\n",
       "      <td>None</td>\n",
       "      <td>0</td>\n",
       "    </tr>\n",
       "    <tr>\n",
       "      <th>164100</th>\n",
       "      <td>AntiVaccineMemes</td>\n",
       "      <td>1</td>\n",
       "      <td>t3_mzvoak</td>\n",
       "      <td>gwsu8f4</td>\n",
       "      <td>/r/AntiVaccineMemes/comments/mzvoak/anti_vaxxe...</td>\n",
       "      <td>LegoJack</td>\n",
       "      <td>1.620060e+09</td>\n",
       "      <td>1</td>\n",
       "      <td>[]</td>\n",
       "      <td>False</td>\n",
       "      <td>False</td>\n",
       "      <td>Honestly nothing jumps to mind at the moment. ...</td>\n",
       "      <td>None</td>\n",
       "      <td>0</td>\n",
       "    </tr>\n",
       "  </tbody>\n",
       "</table>\n",
       "<p>164101 rows × 14 columns</p>\n",
       "</div>"
      ],
      "text/plain": [
       "          subreddit_name  quarantined    post_id comment_id  \\\n",
       "0               Vaccines            0  t3_k5zbnn    geili74   \n",
       "1               Vaccines            0  t3_k5zbnn    gej1b2u   \n",
       "2               Vaccines            0  t3_k5zbnn    gej3jkj   \n",
       "3               Vaccines            0  t3_k5zbnn    gek56u9   \n",
       "4               Vaccines            0  t3_k5zbnn    gel63k1   \n",
       "...                  ...          ...        ...        ...   \n",
       "164096   VaccineHomicide            1  t3_p06hgg    h84nnqw   \n",
       "164097  AntiVaccineMemes            1  t3_mzvoak    gwstopg   \n",
       "164098  AntiVaccineMemes            1  t3_mzvoak    gx58ta0   \n",
       "164099  AntiVaccineMemes            1  t3_mzvoak    gwsttsc   \n",
       "164100  AntiVaccineMemes            1  t3_mzvoak    gwsu8f4   \n",
       "\n",
       "                                                permalink         author  \\\n",
       "0       /r/VACCINES/comments/k5zbnn/raised_antivaxx_an...         rolacl   \n",
       "1       /r/VACCINES/comments/k5zbnn/raised_antivaxx_an...            NaN   \n",
       "2       /r/VACCINES/comments/k5zbnn/raised_antivaxx_an...     MBmondongo   \n",
       "3       /r/VACCINES/comments/k5zbnn/raised_antivaxx_an...   teensforvaxx   \n",
       "4       /r/VACCINES/comments/k5zbnn/raised_antivaxx_an...   someth1ng_au   \n",
       "...                                                   ...            ...   \n",
       "164096  /r/VaccineHomicide/comments/p06hgg/get_the_sho...     polymath22   \n",
       "164097  /r/AntiVaccineMemes/comments/mzvoak/anti_vaxxe...       LegoJack   \n",
       "164098  /r/AntiVaccineMemes/comments/mzvoak/anti_vaxxe...  balfringRetro   \n",
       "164099  /r/AntiVaccineMemes/comments/mzvoak/anti_vaxxe...     polymath22   \n",
       "164100  /r/AntiVaccineMemes/comments/mzvoak/anti_vaxxe...       LegoJack   \n",
       "\n",
       "         created_utc  score awards  stickied edited  \\\n",
       "0       1.607023e+09      3     []     False  False   \n",
       "1       1.607030e+09      2     []     False  False   \n",
       "2       1.607031e+09      1     []     False  False   \n",
       "3       1.607052e+09      1     []     False  False   \n",
       "4       1.607083e+09      1     []     False  False   \n",
       "...              ...    ...    ...       ...    ...   \n",
       "164096  1.628392e+09      5     []     False  False   \n",
       "164097  1.620060e+09      1     []     False  False   \n",
       "164098  1.620306e+09      1     []     False  False   \n",
       "164099  1.620060e+09      2     []     False  False   \n",
       "164100  1.620060e+09      1     []     False  False   \n",
       "\n",
       "                                                     body tokens  num_tokens  \n",
       "0                                 Good for you girl. 💪🏻💪🏻   None           0  \n",
       "1          Congrats friend! Welcome out of the dark ages!   None           0  \n",
       "2                                            I love this!   None           0  \n",
       "3       Hey there! Congrats on getting vaccinated! Gav...   None           0  \n",
       "4        I'm glad you lived long enough to get the shots!   None           0  \n",
       "...                                                   ...    ...         ...  \n",
       "164096                              /r/VaccineCultVictims   None           0  \n",
       "164097  lol.\\n\\n Submissions are restricted on this co...   None           0  \n",
       "164098                              Look mom, I'm on TV !   None           0  \n",
       "164099        try it now.\\n\\nbut be careful what you post   None           0  \n",
       "164100  Honestly nothing jumps to mind at the moment. ...   None           0  \n",
       "\n",
       "[164101 rows x 14 columns]"
      ]
     },
     "execution_count": 262,
     "metadata": {},
     "output_type": "execute_result"
    }
   ],
   "source": [
    "corpus_df['tokens'] = None\n",
    "corpus_df['num_tokens'] = 0\n",
    "corpus_df"
   ]
  },
  {
   "cell_type": "markdown",
   "metadata": {},
   "source": [
    "Let us first tokenize using the Twitter tokenizer."
   ]
  },
  {
   "cell_type": "code",
   "execution_count": 263,
   "metadata": {},
   "outputs": [],
   "source": [
    "for index, row in corpus_df.iterrows():\n",
    "    comment_txt = row['body']\n",
    "    tokens = tk.tokenize(comment_txt)\n",
    "    corpus_df.iat[index, 12] = tokens\n",
    "    corpus_df.iat[index, 13]  = len(tokens)"
   ]
  },
  {
   "cell_type": "markdown",
   "metadata": {},
   "source": [
    "Let's save this tokenized corpus."
   ]
  },
  {
   "cell_type": "code",
   "execution_count": null,
   "metadata": {},
   "outputs": [],
   "source": [
    "corpus_df.to_csv('./corpus/test_3/processed_rem_del_bot_100_50_comments.csv', index=False)"
   ]
  },
  {
   "cell_type": "code",
   "execution_count": 4,
   "metadata": {},
   "outputs": [],
   "source": [
    "corpus_df = pd.read_csv('./corpus/test_3/processed_rem_del_bot_100_50_comments.csv')"
   ]
  },
  {
   "cell_type": "code",
   "execution_count": 5,
   "metadata": {},
   "outputs": [
    {
     "data": {
      "text/html": [
       "<div>\n",
       "<style scoped>\n",
       "    .dataframe tbody tr th:only-of-type {\n",
       "        vertical-align: middle;\n",
       "    }\n",
       "\n",
       "    .dataframe tbody tr th {\n",
       "        vertical-align: top;\n",
       "    }\n",
       "\n",
       "    .dataframe thead th {\n",
       "        text-align: right;\n",
       "    }\n",
       "</style>\n",
       "<table border=\"1\" class=\"dataframe\">\n",
       "  <thead>\n",
       "    <tr style=\"text-align: right;\">\n",
       "      <th></th>\n",
       "      <th>subreddit_name</th>\n",
       "      <th>quarantined</th>\n",
       "      <th>post_id</th>\n",
       "      <th>comment_id</th>\n",
       "      <th>permalink</th>\n",
       "      <th>author</th>\n",
       "      <th>created_utc</th>\n",
       "      <th>score</th>\n",
       "      <th>awards</th>\n",
       "      <th>stickied</th>\n",
       "      <th>edited</th>\n",
       "      <th>body</th>\n",
       "      <th>tokens</th>\n",
       "      <th>num_tokens</th>\n",
       "    </tr>\n",
       "  </thead>\n",
       "  <tbody>\n",
       "    <tr>\n",
       "      <th>0</th>\n",
       "      <td>Vaccines</td>\n",
       "      <td>0</td>\n",
       "      <td>t3_k5zbnn</td>\n",
       "      <td>geili74</td>\n",
       "      <td>/r/VACCINES/comments/k5zbnn/raised_antivaxx_an...</td>\n",
       "      <td>rolacl</td>\n",
       "      <td>1.607023e+09</td>\n",
       "      <td>3</td>\n",
       "      <td>[]</td>\n",
       "      <td>False</td>\n",
       "      <td>False</td>\n",
       "      <td>Good for you girl. 💪🏻💪🏻</td>\n",
       "      <td>['Good', 'for', 'you', 'girl', '.', '💪🏻', '💪🏻']</td>\n",
       "      <td>7</td>\n",
       "    </tr>\n",
       "    <tr>\n",
       "      <th>1</th>\n",
       "      <td>Vaccines</td>\n",
       "      <td>0</td>\n",
       "      <td>t3_k5zbnn</td>\n",
       "      <td>gej1b2u</td>\n",
       "      <td>/r/VACCINES/comments/k5zbnn/raised_antivaxx_an...</td>\n",
       "      <td>NaN</td>\n",
       "      <td>1.607030e+09</td>\n",
       "      <td>2</td>\n",
       "      <td>[]</td>\n",
       "      <td>False</td>\n",
       "      <td>False</td>\n",
       "      <td>Congrats friend! Welcome out of the dark ages!</td>\n",
       "      <td>['Congrats', 'friend', '!', 'Welcome', 'out', ...</td>\n",
       "      <td>10</td>\n",
       "    </tr>\n",
       "    <tr>\n",
       "      <th>2</th>\n",
       "      <td>Vaccines</td>\n",
       "      <td>0</td>\n",
       "      <td>t3_k5zbnn</td>\n",
       "      <td>gej3jkj</td>\n",
       "      <td>/r/VACCINES/comments/k5zbnn/raised_antivaxx_an...</td>\n",
       "      <td>MBmondongo</td>\n",
       "      <td>1.607031e+09</td>\n",
       "      <td>1</td>\n",
       "      <td>[]</td>\n",
       "      <td>False</td>\n",
       "      <td>False</td>\n",
       "      <td>I love this!</td>\n",
       "      <td>['I', 'love', 'this', '!']</td>\n",
       "      <td>4</td>\n",
       "    </tr>\n",
       "    <tr>\n",
       "      <th>3</th>\n",
       "      <td>Vaccines</td>\n",
       "      <td>0</td>\n",
       "      <td>t3_k5zbnn</td>\n",
       "      <td>gek56u9</td>\n",
       "      <td>/r/VACCINES/comments/k5zbnn/raised_antivaxx_an...</td>\n",
       "      <td>teensforvaxx</td>\n",
       "      <td>1.607052e+09</td>\n",
       "      <td>1</td>\n",
       "      <td>[]</td>\n",
       "      <td>False</td>\n",
       "      <td>False</td>\n",
       "      <td>Hey there! Congrats on getting vaccinated! Gav...</td>\n",
       "      <td>['Hey', 'there', '!', 'Congrats', 'on', 'getti...</td>\n",
       "      <td>16</td>\n",
       "    </tr>\n",
       "    <tr>\n",
       "      <th>4</th>\n",
       "      <td>Vaccines</td>\n",
       "      <td>0</td>\n",
       "      <td>t3_k5zbnn</td>\n",
       "      <td>gel63k1</td>\n",
       "      <td>/r/VACCINES/comments/k5zbnn/raised_antivaxx_an...</td>\n",
       "      <td>someth1ng_au</td>\n",
       "      <td>1.607083e+09</td>\n",
       "      <td>1</td>\n",
       "      <td>[]</td>\n",
       "      <td>False</td>\n",
       "      <td>False</td>\n",
       "      <td>I'm glad you lived long enough to get the shots!</td>\n",
       "      <td>[\"I'm\", 'glad', 'you', 'lived', 'long', 'enoug...</td>\n",
       "      <td>11</td>\n",
       "    </tr>\n",
       "  </tbody>\n",
       "</table>\n",
       "</div>"
      ],
      "text/plain": [
       "  subreddit_name  quarantined    post_id comment_id  \\\n",
       "0       Vaccines            0  t3_k5zbnn    geili74   \n",
       "1       Vaccines            0  t3_k5zbnn    gej1b2u   \n",
       "2       Vaccines            0  t3_k5zbnn    gej3jkj   \n",
       "3       Vaccines            0  t3_k5zbnn    gek56u9   \n",
       "4       Vaccines            0  t3_k5zbnn    gel63k1   \n",
       "\n",
       "                                           permalink        author  \\\n",
       "0  /r/VACCINES/comments/k5zbnn/raised_antivaxx_an...        rolacl   \n",
       "1  /r/VACCINES/comments/k5zbnn/raised_antivaxx_an...           NaN   \n",
       "2  /r/VACCINES/comments/k5zbnn/raised_antivaxx_an...    MBmondongo   \n",
       "3  /r/VACCINES/comments/k5zbnn/raised_antivaxx_an...  teensforvaxx   \n",
       "4  /r/VACCINES/comments/k5zbnn/raised_antivaxx_an...  someth1ng_au   \n",
       "\n",
       "    created_utc  score awards  stickied edited  \\\n",
       "0  1.607023e+09      3     []     False  False   \n",
       "1  1.607030e+09      2     []     False  False   \n",
       "2  1.607031e+09      1     []     False  False   \n",
       "3  1.607052e+09      1     []     False  False   \n",
       "4  1.607083e+09      1     []     False  False   \n",
       "\n",
       "                                                body  \\\n",
       "0                            Good for you girl. 💪🏻💪🏻   \n",
       "1     Congrats friend! Welcome out of the dark ages!   \n",
       "2                                       I love this!   \n",
       "3  Hey there! Congrats on getting vaccinated! Gav...   \n",
       "4   I'm glad you lived long enough to get the shots!   \n",
       "\n",
       "                                              tokens  num_tokens  \n",
       "0    ['Good', 'for', 'you', 'girl', '.', '💪🏻', '💪🏻']           7  \n",
       "1  ['Congrats', 'friend', '!', 'Welcome', 'out', ...          10  \n",
       "2                         ['I', 'love', 'this', '!']           4  \n",
       "3  ['Hey', 'there', '!', 'Congrats', 'on', 'getti...          16  \n",
       "4  [\"I'm\", 'glad', 'you', 'lived', 'long', 'enoug...          11  "
      ]
     },
     "execution_count": 5,
     "metadata": {},
     "output_type": "execute_result"
    }
   ],
   "source": [
    "corpus_df.head()"
   ]
  },
  {
   "cell_type": "code",
   "execution_count": 6,
   "metadata": {},
   "outputs": [
    {
     "data": {
      "text/plain": [
       "(164101, 14)"
      ]
     },
     "execution_count": 6,
     "metadata": {},
     "output_type": "execute_result"
    }
   ],
   "source": [
    "corpus_df.shape"
   ]
  },
  {
   "cell_type": "markdown",
   "metadata": {},
   "source": [
    "Let us also get the token count for the processed data using `lmw.process_string`. Notice earlier that this funciton does remove emojis and other non-utf8 encoded text, and we wish to see if this processing has any major impact on the corpus."
   ]
  },
  {
   "cell_type": "code",
   "execution_count": 7,
   "metadata": {},
   "outputs": [],
   "source": [
    "corpus_df['lmw_text'] = None\n",
    "corpus_df['lmw_tokens'] = None\n",
    "corpus_df['lmw_num_tokens'] = 0"
   ]
  },
  {
   "cell_type": "code",
   "execution_count": 8,
   "metadata": {},
   "outputs": [
    {
     "data": {
      "text/html": [
       "<div>\n",
       "<style scoped>\n",
       "    .dataframe tbody tr th:only-of-type {\n",
       "        vertical-align: middle;\n",
       "    }\n",
       "\n",
       "    .dataframe tbody tr th {\n",
       "        vertical-align: top;\n",
       "    }\n",
       "\n",
       "    .dataframe thead th {\n",
       "        text-align: right;\n",
       "    }\n",
       "</style>\n",
       "<table border=\"1\" class=\"dataframe\">\n",
       "  <thead>\n",
       "    <tr style=\"text-align: right;\">\n",
       "      <th></th>\n",
       "      <th>subreddit_name</th>\n",
       "      <th>quarantined</th>\n",
       "      <th>post_id</th>\n",
       "      <th>comment_id</th>\n",
       "      <th>permalink</th>\n",
       "      <th>author</th>\n",
       "      <th>created_utc</th>\n",
       "      <th>score</th>\n",
       "      <th>awards</th>\n",
       "      <th>stickied</th>\n",
       "      <th>edited</th>\n",
       "      <th>body</th>\n",
       "      <th>tokens</th>\n",
       "      <th>num_tokens</th>\n",
       "      <th>lmw_text</th>\n",
       "      <th>lmw_tokens</th>\n",
       "      <th>lmw_num_tokens</th>\n",
       "    </tr>\n",
       "  </thead>\n",
       "  <tbody>\n",
       "    <tr>\n",
       "      <th>0</th>\n",
       "      <td>Vaccines</td>\n",
       "      <td>0</td>\n",
       "      <td>t3_k5zbnn</td>\n",
       "      <td>geili74</td>\n",
       "      <td>/r/VACCINES/comments/k5zbnn/raised_antivaxx_an...</td>\n",
       "      <td>rolacl</td>\n",
       "      <td>1.607023e+09</td>\n",
       "      <td>3</td>\n",
       "      <td>[]</td>\n",
       "      <td>False</td>\n",
       "      <td>False</td>\n",
       "      <td>Good for you girl. 💪🏻💪🏻</td>\n",
       "      <td>['Good', 'for', 'you', 'girl', '.', '💪🏻', '💪🏻']</td>\n",
       "      <td>7</td>\n",
       "      <td>None</td>\n",
       "      <td>None</td>\n",
       "      <td>0</td>\n",
       "    </tr>\n",
       "    <tr>\n",
       "      <th>1</th>\n",
       "      <td>Vaccines</td>\n",
       "      <td>0</td>\n",
       "      <td>t3_k5zbnn</td>\n",
       "      <td>gej1b2u</td>\n",
       "      <td>/r/VACCINES/comments/k5zbnn/raised_antivaxx_an...</td>\n",
       "      <td>NaN</td>\n",
       "      <td>1.607030e+09</td>\n",
       "      <td>2</td>\n",
       "      <td>[]</td>\n",
       "      <td>False</td>\n",
       "      <td>False</td>\n",
       "      <td>Congrats friend! Welcome out of the dark ages!</td>\n",
       "      <td>['Congrats', 'friend', '!', 'Welcome', 'out', ...</td>\n",
       "      <td>10</td>\n",
       "      <td>None</td>\n",
       "      <td>None</td>\n",
       "      <td>0</td>\n",
       "    </tr>\n",
       "    <tr>\n",
       "      <th>2</th>\n",
       "      <td>Vaccines</td>\n",
       "      <td>0</td>\n",
       "      <td>t3_k5zbnn</td>\n",
       "      <td>gej3jkj</td>\n",
       "      <td>/r/VACCINES/comments/k5zbnn/raised_antivaxx_an...</td>\n",
       "      <td>MBmondongo</td>\n",
       "      <td>1.607031e+09</td>\n",
       "      <td>1</td>\n",
       "      <td>[]</td>\n",
       "      <td>False</td>\n",
       "      <td>False</td>\n",
       "      <td>I love this!</td>\n",
       "      <td>['I', 'love', 'this', '!']</td>\n",
       "      <td>4</td>\n",
       "      <td>None</td>\n",
       "      <td>None</td>\n",
       "      <td>0</td>\n",
       "    </tr>\n",
       "    <tr>\n",
       "      <th>3</th>\n",
       "      <td>Vaccines</td>\n",
       "      <td>0</td>\n",
       "      <td>t3_k5zbnn</td>\n",
       "      <td>gek56u9</td>\n",
       "      <td>/r/VACCINES/comments/k5zbnn/raised_antivaxx_an...</td>\n",
       "      <td>teensforvaxx</td>\n",
       "      <td>1.607052e+09</td>\n",
       "      <td>1</td>\n",
       "      <td>[]</td>\n",
       "      <td>False</td>\n",
       "      <td>False</td>\n",
       "      <td>Hey there! Congrats on getting vaccinated! Gav...</td>\n",
       "      <td>['Hey', 'there', '!', 'Congrats', 'on', 'getti...</td>\n",
       "      <td>16</td>\n",
       "      <td>None</td>\n",
       "      <td>None</td>\n",
       "      <td>0</td>\n",
       "    </tr>\n",
       "    <tr>\n",
       "      <th>4</th>\n",
       "      <td>Vaccines</td>\n",
       "      <td>0</td>\n",
       "      <td>t3_k5zbnn</td>\n",
       "      <td>gel63k1</td>\n",
       "      <td>/r/VACCINES/comments/k5zbnn/raised_antivaxx_an...</td>\n",
       "      <td>someth1ng_au</td>\n",
       "      <td>1.607083e+09</td>\n",
       "      <td>1</td>\n",
       "      <td>[]</td>\n",
       "      <td>False</td>\n",
       "      <td>False</td>\n",
       "      <td>I'm glad you lived long enough to get the shots!</td>\n",
       "      <td>[\"I'm\", 'glad', 'you', 'lived', 'long', 'enoug...</td>\n",
       "      <td>11</td>\n",
       "      <td>None</td>\n",
       "      <td>None</td>\n",
       "      <td>0</td>\n",
       "    </tr>\n",
       "  </tbody>\n",
       "</table>\n",
       "</div>"
      ],
      "text/plain": [
       "  subreddit_name  quarantined    post_id comment_id  \\\n",
       "0       Vaccines            0  t3_k5zbnn    geili74   \n",
       "1       Vaccines            0  t3_k5zbnn    gej1b2u   \n",
       "2       Vaccines            0  t3_k5zbnn    gej3jkj   \n",
       "3       Vaccines            0  t3_k5zbnn    gek56u9   \n",
       "4       Vaccines            0  t3_k5zbnn    gel63k1   \n",
       "\n",
       "                                           permalink        author  \\\n",
       "0  /r/VACCINES/comments/k5zbnn/raised_antivaxx_an...        rolacl   \n",
       "1  /r/VACCINES/comments/k5zbnn/raised_antivaxx_an...           NaN   \n",
       "2  /r/VACCINES/comments/k5zbnn/raised_antivaxx_an...    MBmondongo   \n",
       "3  /r/VACCINES/comments/k5zbnn/raised_antivaxx_an...  teensforvaxx   \n",
       "4  /r/VACCINES/comments/k5zbnn/raised_antivaxx_an...  someth1ng_au   \n",
       "\n",
       "    created_utc  score awards  stickied edited  \\\n",
       "0  1.607023e+09      3     []     False  False   \n",
       "1  1.607030e+09      2     []     False  False   \n",
       "2  1.607031e+09      1     []     False  False   \n",
       "3  1.607052e+09      1     []     False  False   \n",
       "4  1.607083e+09      1     []     False  False   \n",
       "\n",
       "                                                body  \\\n",
       "0                            Good for you girl. 💪🏻💪🏻   \n",
       "1     Congrats friend! Welcome out of the dark ages!   \n",
       "2                                       I love this!   \n",
       "3  Hey there! Congrats on getting vaccinated! Gav...   \n",
       "4   I'm glad you lived long enough to get the shots!   \n",
       "\n",
       "                                              tokens  num_tokens lmw_text  \\\n",
       "0    ['Good', 'for', 'you', 'girl', '.', '💪🏻', '💪🏻']           7     None   \n",
       "1  ['Congrats', 'friend', '!', 'Welcome', 'out', ...          10     None   \n",
       "2                         ['I', 'love', 'this', '!']           4     None   \n",
       "3  ['Hey', 'there', '!', 'Congrats', 'on', 'getti...          16     None   \n",
       "4  [\"I'm\", 'glad', 'you', 'lived', 'long', 'enoug...          11     None   \n",
       "\n",
       "  lmw_tokens  lmw_num_tokens  \n",
       "0       None               0  \n",
       "1       None               0  \n",
       "2       None               0  \n",
       "3       None               0  \n",
       "4       None               0  "
      ]
     },
     "execution_count": 8,
     "metadata": {},
     "output_type": "execute_result"
    }
   ],
   "source": [
    "corpus_df.head()"
   ]
  },
  {
   "cell_type": "code",
   "execution_count": 9,
   "metadata": {},
   "outputs": [],
   "source": [
    "for index, row in corpus_df.iterrows():\n",
    "    comment_txt = lmw.process_string(row['body'])\n",
    "    tokens = tk.tokenize(comment_txt)\n",
    "    corpus_df.iat[index, 14] = comment_txt\n",
    "    corpus_df.iat[index, 15]  = tokens\n",
    "    corpus_df.iat[index, 16]  = len(tokens)"
   ]
  },
  {
   "cell_type": "code",
   "execution_count": 10,
   "metadata": {},
   "outputs": [
    {
     "data": {
      "text/html": [
       "<div>\n",
       "<style scoped>\n",
       "    .dataframe tbody tr th:only-of-type {\n",
       "        vertical-align: middle;\n",
       "    }\n",
       "\n",
       "    .dataframe tbody tr th {\n",
       "        vertical-align: top;\n",
       "    }\n",
       "\n",
       "    .dataframe thead th {\n",
       "        text-align: right;\n",
       "    }\n",
       "</style>\n",
       "<table border=\"1\" class=\"dataframe\">\n",
       "  <thead>\n",
       "    <tr style=\"text-align: right;\">\n",
       "      <th></th>\n",
       "      <th>subreddit_name</th>\n",
       "      <th>quarantined</th>\n",
       "      <th>post_id</th>\n",
       "      <th>comment_id</th>\n",
       "      <th>permalink</th>\n",
       "      <th>author</th>\n",
       "      <th>created_utc</th>\n",
       "      <th>score</th>\n",
       "      <th>awards</th>\n",
       "      <th>stickied</th>\n",
       "      <th>edited</th>\n",
       "      <th>body</th>\n",
       "      <th>tokens</th>\n",
       "      <th>num_tokens</th>\n",
       "      <th>lmw_text</th>\n",
       "      <th>lmw_tokens</th>\n",
       "      <th>lmw_num_tokens</th>\n",
       "    </tr>\n",
       "  </thead>\n",
       "  <tbody>\n",
       "    <tr>\n",
       "      <th>0</th>\n",
       "      <td>Vaccines</td>\n",
       "      <td>0</td>\n",
       "      <td>t3_k5zbnn</td>\n",
       "      <td>geili74</td>\n",
       "      <td>/r/VACCINES/comments/k5zbnn/raised_antivaxx_an...</td>\n",
       "      <td>rolacl</td>\n",
       "      <td>1.607023e+09</td>\n",
       "      <td>3</td>\n",
       "      <td>[]</td>\n",
       "      <td>False</td>\n",
       "      <td>False</td>\n",
       "      <td>Good for you girl. 💪🏻💪🏻</td>\n",
       "      <td>['Good', 'for', 'you', 'girl', '.', '💪🏻', '💪🏻']</td>\n",
       "      <td>7</td>\n",
       "      <td>good girl</td>\n",
       "      <td>[good, girl]</td>\n",
       "      <td>2</td>\n",
       "    </tr>\n",
       "    <tr>\n",
       "      <th>1</th>\n",
       "      <td>Vaccines</td>\n",
       "      <td>0</td>\n",
       "      <td>t3_k5zbnn</td>\n",
       "      <td>gej1b2u</td>\n",
       "      <td>/r/VACCINES/comments/k5zbnn/raised_antivaxx_an...</td>\n",
       "      <td>NaN</td>\n",
       "      <td>1.607030e+09</td>\n",
       "      <td>2</td>\n",
       "      <td>[]</td>\n",
       "      <td>False</td>\n",
       "      <td>False</td>\n",
       "      <td>Congrats friend! Welcome out of the dark ages!</td>\n",
       "      <td>['Congrats', 'friend', '!', 'Welcome', 'out', ...</td>\n",
       "      <td>10</td>\n",
       "      <td>congrats friend welcome dark ages</td>\n",
       "      <td>[congrats, friend, welcome, dark, ages]</td>\n",
       "      <td>5</td>\n",
       "    </tr>\n",
       "    <tr>\n",
       "      <th>2</th>\n",
       "      <td>Vaccines</td>\n",
       "      <td>0</td>\n",
       "      <td>t3_k5zbnn</td>\n",
       "      <td>gej3jkj</td>\n",
       "      <td>/r/VACCINES/comments/k5zbnn/raised_antivaxx_an...</td>\n",
       "      <td>MBmondongo</td>\n",
       "      <td>1.607031e+09</td>\n",
       "      <td>1</td>\n",
       "      <td>[]</td>\n",
       "      <td>False</td>\n",
       "      <td>False</td>\n",
       "      <td>I love this!</td>\n",
       "      <td>['I', 'love', 'this', '!']</td>\n",
       "      <td>4</td>\n",
       "      <td>love</td>\n",
       "      <td>[love]</td>\n",
       "      <td>1</td>\n",
       "    </tr>\n",
       "    <tr>\n",
       "      <th>3</th>\n",
       "      <td>Vaccines</td>\n",
       "      <td>0</td>\n",
       "      <td>t3_k5zbnn</td>\n",
       "      <td>gek56u9</td>\n",
       "      <td>/r/VACCINES/comments/k5zbnn/raised_antivaxx_an...</td>\n",
       "      <td>teensforvaxx</td>\n",
       "      <td>1.607052e+09</td>\n",
       "      <td>1</td>\n",
       "      <td>[]</td>\n",
       "      <td>False</td>\n",
       "      <td>False</td>\n",
       "      <td>Hey there! Congrats on getting vaccinated! Gav...</td>\n",
       "      <td>['Hey', 'there', '!', 'Congrats', 'on', 'getti...</td>\n",
       "      <td>16</td>\n",
       "      <td>hey congrats getting vaccinated gave award</td>\n",
       "      <td>[hey, congrats, getting, vaccinated, gave, award]</td>\n",
       "      <td>6</td>\n",
       "    </tr>\n",
       "    <tr>\n",
       "      <th>4</th>\n",
       "      <td>Vaccines</td>\n",
       "      <td>0</td>\n",
       "      <td>t3_k5zbnn</td>\n",
       "      <td>gel63k1</td>\n",
       "      <td>/r/VACCINES/comments/k5zbnn/raised_antivaxx_an...</td>\n",
       "      <td>someth1ng_au</td>\n",
       "      <td>1.607083e+09</td>\n",
       "      <td>1</td>\n",
       "      <td>[]</td>\n",
       "      <td>False</td>\n",
       "      <td>False</td>\n",
       "      <td>I'm glad you lived long enough to get the shots!</td>\n",
       "      <td>[\"I'm\", 'glad', 'you', 'lived', 'long', 'enoug...</td>\n",
       "      <td>11</td>\n",
       "      <td>glad lived long enough get shots</td>\n",
       "      <td>[glad, lived, long, enough, get, shots]</td>\n",
       "      <td>6</td>\n",
       "    </tr>\n",
       "  </tbody>\n",
       "</table>\n",
       "</div>"
      ],
      "text/plain": [
       "  subreddit_name  quarantined    post_id comment_id  \\\n",
       "0       Vaccines            0  t3_k5zbnn    geili74   \n",
       "1       Vaccines            0  t3_k5zbnn    gej1b2u   \n",
       "2       Vaccines            0  t3_k5zbnn    gej3jkj   \n",
       "3       Vaccines            0  t3_k5zbnn    gek56u9   \n",
       "4       Vaccines            0  t3_k5zbnn    gel63k1   \n",
       "\n",
       "                                           permalink        author  \\\n",
       "0  /r/VACCINES/comments/k5zbnn/raised_antivaxx_an...        rolacl   \n",
       "1  /r/VACCINES/comments/k5zbnn/raised_antivaxx_an...           NaN   \n",
       "2  /r/VACCINES/comments/k5zbnn/raised_antivaxx_an...    MBmondongo   \n",
       "3  /r/VACCINES/comments/k5zbnn/raised_antivaxx_an...  teensforvaxx   \n",
       "4  /r/VACCINES/comments/k5zbnn/raised_antivaxx_an...  someth1ng_au   \n",
       "\n",
       "    created_utc  score awards  stickied edited  \\\n",
       "0  1.607023e+09      3     []     False  False   \n",
       "1  1.607030e+09      2     []     False  False   \n",
       "2  1.607031e+09      1     []     False  False   \n",
       "3  1.607052e+09      1     []     False  False   \n",
       "4  1.607083e+09      1     []     False  False   \n",
       "\n",
       "                                                body  \\\n",
       "0                            Good for you girl. 💪🏻💪🏻   \n",
       "1     Congrats friend! Welcome out of the dark ages!   \n",
       "2                                       I love this!   \n",
       "3  Hey there! Congrats on getting vaccinated! Gav...   \n",
       "4   I'm glad you lived long enough to get the shots!   \n",
       "\n",
       "                                              tokens  num_tokens  \\\n",
       "0    ['Good', 'for', 'you', 'girl', '.', '💪🏻', '💪🏻']           7   \n",
       "1  ['Congrats', 'friend', '!', 'Welcome', 'out', ...          10   \n",
       "2                         ['I', 'love', 'this', '!']           4   \n",
       "3  ['Hey', 'there', '!', 'Congrats', 'on', 'getti...          16   \n",
       "4  [\"I'm\", 'glad', 'you', 'lived', 'long', 'enoug...          11   \n",
       "\n",
       "                                     lmw_text  \\\n",
       "0                                   good girl   \n",
       "1           congrats friend welcome dark ages   \n",
       "2                                        love   \n",
       "3  hey congrats getting vaccinated gave award   \n",
       "4            glad lived long enough get shots   \n",
       "\n",
       "                                          lmw_tokens  lmw_num_tokens  \n",
       "0                                       [good, girl]               2  \n",
       "1            [congrats, friend, welcome, dark, ages]               5  \n",
       "2                                             [love]               1  \n",
       "3  [hey, congrats, getting, vaccinated, gave, award]               6  \n",
       "4            [glad, lived, long, enough, get, shots]               6  "
      ]
     },
     "execution_count": 10,
     "metadata": {},
     "output_type": "execute_result"
    }
   ],
   "source": [
    "corpus_df.head()"
   ]
  },
  {
   "cell_type": "markdown",
   "metadata": {},
   "source": [
    "This will be the final corpus we will use to create our training data for the topic model."
   ]
  },
  {
   "cell_type": "code",
   "execution_count": 11,
   "metadata": {},
   "outputs": [],
   "source": [
    "corpus_df.to_csv('./corpus/test_3/tokenized_processed_rem_del_bot_100_50_comments.csv', index=False)"
   ]
  },
  {
   "cell_type": "code",
   "execution_count": 13,
   "metadata": {},
   "outputs": [],
   "source": [
    "corpus_df = pd.read_csv('./corpus/test_3/tokenized_processed_rem_del_bot_100_50_comments.csv')"
   ]
  },
  {
   "cell_type": "code",
   "execution_count": 15,
   "metadata": {},
   "outputs": [
    {
     "data": {
      "text/plain": [
       "(164101, 17)"
      ]
     },
     "execution_count": 15,
     "metadata": {},
     "output_type": "execute_result"
    }
   ],
   "source": [
    "corpus_df.shape"
   ]
  },
  {
   "cell_type": "markdown",
   "metadata": {},
   "source": [
    "## Token Visualizations"
   ]
  },
  {
   "cell_type": "code",
   "execution_count": 16,
   "metadata": {},
   "outputs": [
    {
     "name": "stdout",
     "output_type": "stream",
     "text": [
      "quarantined_tokenized_df shape: (15523, 17)\n",
      "non_quarantined_tokenized_df shape: (148578, 17)\n",
      "The following is in the form of [quarantined, non_quarantined]\n",
      "total comments: [15523, 148578]\n",
      "token count: [627295, 6946609]\n",
      "avg token per comment: [40.410680925078914, 46.753954152027895]\n",
      "lmw processed token count: [311459, 3212379]\n",
      "lmw processed avg token per comment [20.064356116730014, 21.620825425029278]\n",
      "[15523, 148578]\n",
      "[627295, 6946609]\n",
      "[40.410680925078914, 46.753954152027895]\n"
     ]
    },
    {
     "data": {
      "image/png": "[encoded data removed]",
      "text/plain": [
       "<Figure size 576x864 with 5 Axes>"
      ]
     },
     "metadata": {},
     "output_type": "display_data"
    }
   ],
   "source": [
    "index = ['quarantined', 'non_quarantined']\n",
    "quarantined_tokenized_df = corpus_df[corpus_df['quarantined'] == 1]\n",
    "non_quarantined_tokenized_df = corpus_df[corpus_df['quarantined'] == 0]\n",
    "\n",
    "print(\"quarantined_tokenized_df shape:\", quarantined_tokenized_df.shape)\n",
    "print(\"non_quarantined_tokenized_df shape:\", non_quarantined_tokenized_df.shape)\n",
    "print(\"The following is in the form of [quarantined, non_quarantined]\")\n",
    "\n",
    "total_comments = [len(quarantined_tokenized_df.index), len(non_quarantined_tokenized_df.index)]\n",
    "print(\"total comments:\", total_comments)\n",
    "\n",
    "token_count = [quarantined_tokenized_df['num_tokens'].sum(), non_quarantined_tokenized_df['num_tokens'].sum()]\n",
    "print(\"token count:\", token_count)\n",
    "\n",
    "avg_token_per_comment = [tokens/comments for tokens, comments in zip(token_count, total_comments)]\n",
    "print(\"avg token per comment:\", avg_token_per_comment)\n",
    "\n",
    "lmw_token_count = [quarantined_tokenized_df['lmw_num_tokens'].sum(), non_quarantined_tokenized_df['lmw_num_tokens'].sum()]\n",
    "print(\"lmw processed token count:\", lmw_token_count)\n",
    "\n",
    "lmw_avg_token_per_comment = [tokens/comments for tokens, comments in zip(lmw_token_count, total_comments)]\n",
    "print(\"lmw processed avg token per comment\", lmw_avg_token_per_comment)\n",
    "\n",
    "summary_df = pd.DataFrame(\n",
    "    {'tokens': token_count, \n",
    "     'comments': total_comments, \n",
    "     'avg tokens per comments': avg_token_per_comment,\n",
    "     'tokens (lmw processed)': lmw_token_count,\n",
    "     'avg tokens per comments (lmw processed)': lmw_avg_token_per_comment\n",
    "    }, \n",
    "      index = index)\n",
    "\n",
    "ax = summary_df.plot.bar(title=\"Summary\", rot=0, subplots=True, figsize=(8,12), legend=False)"
   ]
  },
  {
   "cell_type": "code",
   "execution_count": 26,
   "metadata": {},
   "outputs": [
    {
     "data": {
      "image/png": "[encoded data removed]",
      "text/plain": [
       "<Figure size 432x288 with 1 Axes>"
      ]
     },
     "metadata": {},
     "output_type": "display_data"
    }
   ],
   "source": [
    "summary_df = pd.DataFrame(\n",
    "    {'tokens': token_count, \n",
    "     'tokens (lmw processed)': lmw_token_count,\n",
    "    }, \n",
    "      index = index)\n",
    "\n",
    "ax = summary_df.plot.bar(title=\"Summary\", rot=0, figsize=(6,4))"
   ]
  },
  {
   "cell_type": "code",
   "execution_count": 32,
   "metadata": {},
   "outputs": [
    {
     "data": {
      "image/png": "[encoded data removed]",
      "text/plain": [
       "<Figure size 720x432 with 1 Axes>"
      ]
     },
     "metadata": {},
     "output_type": "display_data"
    }
   ],
   "source": [
    "summary_df = pd.DataFrame(\n",
    "    {\n",
    "     'avg tokens per comments': avg_token_per_comment,\n",
    "     'avg tokens per comments (lmw processed)': lmw_avg_token_per_comment\n",
    "    }, \n",
    "      index = index)\n",
    "\n",
    "ax = summary_df.plot.bar(title=\"Summary\", rot=0, figsize=(10,6))"
   ]
  },
  {
   "cell_type": "markdown",
   "metadata": {},
   "source": [
    "# Create our Topic Model Training Data"
   ]
  },
  {
   "cell_type": "markdown",
   "metadata": {},
   "source": [
    "Now let's create our document data frame for our topic model. As there were 15,523 quarantined comments vs 148,578 non-quarantined comments, we will randomly sample 15,500 comments from each group. Using the pandas `groupby` function, we will make sure to select a representative sample of each subreddit within the quarantined and non-quarantined groups."
   ]
  },
  {
   "cell_type": "code",
   "execution_count": 3,
   "metadata": {},
   "outputs": [],
   "source": [
    "corpus_df = pd.read_csv('./corpus/test_3/tokenized_processed_rem_del_bot_100_50_comments.csv')"
   ]
  },
  {
   "cell_type": "code",
   "execution_count": 4,
   "metadata": {},
   "outputs": [],
   "source": [
    "quarantined_df = corpus_df[corpus_df[\"quarantined\"] == 1]\n",
    "non_quarantined_df = corpus_df[corpus_df[\"quarantined\"] == 0]"
   ]
  },
  {
   "cell_type": "code",
   "execution_count": 7,
   "metadata": {},
   "outputs": [
    {
     "name": "stdout",
     "output_type": "stream",
     "text": [
      "['Plandemic' 'vaccinelonghaulers' 'LockdownSkepticismCAN' 'vacci_nation'\n",
      " 'covidisafraud' 'CovidVaccineInjury' 'CovidVaccinatedUncut'\n",
      " 'covid19origin' 'EndTheLockdowns' 'Wuhan_Flu' 'trueantivaccination'\n",
      " 'NoLockdownsNoMasks' 'VaccineData' 'VaccineBDS' 'VaccineRevolt'\n",
      " 'VakzinationMachtFrei' 'VaccineRape' 'VaccineRefusal' 'VaccineProtest'\n",
      " 'VaccineCensorship' 'VaccineViolence' 'SpikeProtein' 'VaccinerEVOLution'\n",
      " 'VaccinePeriod' 'HearThisWell' 'ProblemSolvingMatrix'\n",
      " 'VaccineMyocarditis' 'VaccineEnvy' 'VaccineCoercion' 'VaccineUniversity'\n",
      " 'VaccineReaction' 'VaccineNarrative' 'VaccineCultVictims' 'DebateVaccine'\n",
      " 'VaccineGasLight' 'VaccineHomicide' 'AntiVaccineMemes']\n",
      "37\n"
     ]
    }
   ],
   "source": [
    "quarantined_subs = quarantined_df['subreddit_name'].unique()\n",
    "print(quarantined_subs)\n",
    "print(len(quarantined_subs))"
   ]
  },
  {
   "cell_type": "code",
   "execution_count": 8,
   "metadata": {},
   "outputs": [
    {
     "name": "stdout",
     "output_type": "stream",
     "text": [
      "['Vaccines' 'CovidVaccine' 'AntiVaxxers' 'vaxxhappened' 'antivaccine'\n",
      " 'conspiracy' 'conspiracytheories' 'conspiracy_commons' 'COVID19'\n",
      " 'Coronavirus' 'COVID19positive' 'worldnews' 'CoronavirusWI'\n",
      " 'COVID19_support' 'CoronavirusCanada' 'CanadaCoronavirus'\n",
      " 'LockdownSkepticism' 'CoronavirusUK' 'CoronavirusDownunder'\n",
      " 'CoronavirusUS' 'CoronavirusCirclejerk' 'covidlonghaulers'\n",
      " 'FloridaCoronavirus' 'CoronavirusMichigan' 'CoronavirusGA'\n",
      " 'CoronavirusMa' 'CoronaVirusTX' 'DebateVaccines' 'CoronavirusCA'\n",
      " 'CoronavirusWA' 'CoronavirusAZ' 'Coronaviruslouisiana'\n",
      " 'CoronavirusOregon' 'CoronavirusOklahoma' 'CoronavirusUT'\n",
      " 'CoronavirusColorado' 'coronavirusnewmexico' 'CovidVaccinated'\n",
      " 'CovIdiots' 'nycCoronavirus' 'LockdownCriticalLeft' 'modernavaccine'\n",
      " 'CoronavirusIllinois' 'CoronaBumpers' 'TakeTheJab' 'antivax'\n",
      " 'CoronavirusMemes' 'CoronavirusFOS' 'CoronavirusNewYork' 'nCoV'\n",
      " 'CoronaVirus_2019_nCoV' 'CoronavirusRecession' 'CoronavirusAustralia'\n",
      " 'cvnews' 'Pandemic']\n",
      "55\n"
     ]
    }
   ],
   "source": [
    "non_quarantined_subs = non_quarantined_df['subreddit_name'].unique()\n",
    "print(non_quarantined_subs)\n",
    "print(len(non_quarantined_subs))"
   ]
  },
  {
   "cell_type": "code",
   "execution_count": null,
   "metadata": {},
   "outputs": [],
   "source": [
    "\n",
    "random_quarantined_df = quarantined_df.sample(random_state = 1, n=15500)\n",
    "random_non_quarantined_df = non_quarantined_df.sample(random_state=1, n=15500)"
   ]
  },
  {
   "cell_type": "code",
   "execution_count": 34,
   "metadata": {},
   "outputs": [],
   "source": [
    "random_quarantined_df.to_csv('corpus/sample/test_3/random_3_quarantined_100_50_info.csv', index=False)\n",
    "random_non_quarantined_df.to_csv('corpus/sample/test_3/random_3_non_quarantined_100_50_info.csv', index=False)"
   ]
  },
  {
   "cell_type": "code",
   "execution_count": 35,
   "metadata": {},
   "outputs": [],
   "source": [
    "random_quarantined_df = pd.read_csv('corpus/sample/test_3/random_3_quarantined_100_50_info.csv')\n",
    "random_non_quarantined_df = pd.read_csv('corpus/sample/test_3/random_3_non_quarantined_100_50_info.csv')"
   ]
  },
  {
   "cell_type": "code",
   "execution_count": 37,
   "metadata": {},
   "outputs": [
    {
     "name": "stdout",
     "output_type": "stream",
     "text": [
      "(15500, 17)\n"
     ]
    }
   ],
   "source": [
    "print(random_quarantined_df.shape)"
   ]
  },
  {
   "cell_type": "code",
   "execution_count": 39,
   "metadata": {},
   "outputs": [
    {
     "name": "stdout",
     "output_type": "stream",
     "text": [
      "(15500, 17)\n"
     ]
    }
   ],
   "source": [
    "print(random_non_quarantined_df.shape)"
   ]
  },
  {
   "cell_type": "code",
   "execution_count": 40,
   "metadata": {},
   "outputs": [],
   "source": [
    "frames = [random_quarantined_df, random_non_quarantined_df]\n",
    "reddit_df = pd.concat(frames)\n",
    "reddit_df.to_csv('corpus/sample/test_3/random_3_100_50_comments.csv', index=False)"
   ]
  },
  {
   "cell_type": "code",
   "execution_count": 48,
   "metadata": {},
   "outputs": [],
   "source": [
    "reddit_df = pd.read_csv('corpus/sample/test_3/random_3_100_50_comments.csv', encoding='utf8')"
   ]
  },
  {
   "cell_type": "code",
   "execution_count": 49,
   "metadata": {},
   "outputs": [
    {
     "data": {
      "text/plain": [
       "(31000, 17)"
      ]
     },
     "execution_count": 49,
     "metadata": {},
     "output_type": "execute_result"
    }
   ],
   "source": [
    "reddit_df.shape"
   ]
  },
  {
   "cell_type": "code",
   "execution_count": 50,
   "metadata": {},
   "outputs": [
    {
     "data": {
      "text/html": [
       "<div>\n",
       "<style scoped>\n",
       "    .dataframe tbody tr th:only-of-type {\n",
       "        vertical-align: middle;\n",
       "    }\n",
       "\n",
       "    .dataframe tbody tr th {\n",
       "        vertical-align: top;\n",
       "    }\n",
       "\n",
       "    .dataframe thead th {\n",
       "        text-align: right;\n",
       "    }\n",
       "</style>\n",
       "<table border=\"1\" class=\"dataframe\">\n",
       "  <thead>\n",
       "    <tr style=\"text-align: right;\">\n",
       "      <th></th>\n",
       "      <th>subreddit_name</th>\n",
       "      <th>quarantined</th>\n",
       "      <th>post_id</th>\n",
       "      <th>comment_id</th>\n",
       "      <th>permalink</th>\n",
       "      <th>author</th>\n",
       "      <th>created_utc</th>\n",
       "      <th>score</th>\n",
       "      <th>awards</th>\n",
       "      <th>stickied</th>\n",
       "      <th>edited</th>\n",
       "      <th>body</th>\n",
       "      <th>tokens</th>\n",
       "      <th>num_tokens</th>\n",
       "      <th>lmw_text</th>\n",
       "      <th>lmw_tokens</th>\n",
       "      <th>lmw_num_tokens</th>\n",
       "    </tr>\n",
       "  </thead>\n",
       "  <tbody>\n",
       "    <tr>\n",
       "      <th>0</th>\n",
       "      <td>vaccinelonghaulers</td>\n",
       "      <td>1</td>\n",
       "      <td>t3_p16c7f</td>\n",
       "      <td>h8jhiq0</td>\n",
       "      <td>/r/vaccinelonghaulers/comments/p16c7f/vaccine_...</td>\n",
       "      <td>aprilflowers23</td>\n",
       "      <td>1.628694e+09</td>\n",
       "      <td>2</td>\n",
       "      <td>[]</td>\n",
       "      <td>False</td>\n",
       "      <td>False</td>\n",
       "      <td>I needed that so badly last summer. My adrenal...</td>\n",
       "      <td>['I', 'needed', 'that', 'so', 'badly', 'last',...</td>\n",
       "      <td>96</td>\n",
       "      <td>needed badly last summer adrenaline situation ...</td>\n",
       "      <td>['needed', 'badly', 'last', 'summer', 'adrenal...</td>\n",
       "      <td>43</td>\n",
       "    </tr>\n",
       "    <tr>\n",
       "      <th>1</th>\n",
       "      <td>Wuhan_Flu</td>\n",
       "      <td>1</td>\n",
       "      <td>t3_fdy5z4</td>\n",
       "      <td>fjkp4ap</td>\n",
       "      <td>/r/Wuhan_Flu/comments/fdy5z4/it_do_be_like_tha...</td>\n",
       "      <td>NaN</td>\n",
       "      <td>1.583431e+09</td>\n",
       "      <td>25</td>\n",
       "      <td>[]</td>\n",
       "      <td>False</td>\n",
       "      <td>False</td>\n",
       "      <td>They wanna travel and see the world before the...</td>\n",
       "      <td>['They', 'wanna', 'travel', 'and', 'see', 'the...</td>\n",
       "      <td>17</td>\n",
       "      <td>wanna travel see world die nothing wrong right</td>\n",
       "      <td>['wanna', 'travel', 'see', 'world', 'die', 'no...</td>\n",
       "      <td>8</td>\n",
       "    </tr>\n",
       "    <tr>\n",
       "      <th>2</th>\n",
       "      <td>CovidVaccinatedUncut</td>\n",
       "      <td>1</td>\n",
       "      <td>t3_ouraju</td>\n",
       "      <td>h748daq</td>\n",
       "      <td>/r/CovidVaccinatedUncut/comments/ouraju/vaccin...</td>\n",
       "      <td>volcanicpale</td>\n",
       "      <td>1.627672e+09</td>\n",
       "      <td>16</td>\n",
       "      <td>[]</td>\n",
       "      <td>False</td>\n",
       "      <td>False</td>\n",
       "      <td>They’re unable to take a side after they’ve sh...</td>\n",
       "      <td>['They', '’', 're', 'unable', 'to', 'take', 'a...</td>\n",
       "      <td>23</td>\n",
       "      <td>unable take side shoved pro vaccine propaganda...</td>\n",
       "      <td>['unable', 'take', 'side', 'shoved', 'pro', 'v...</td>\n",
       "      <td>11</td>\n",
       "    </tr>\n",
       "    <tr>\n",
       "      <th>3</th>\n",
       "      <td>VaccinePeriod</td>\n",
       "      <td>1</td>\n",
       "      <td>t3_nun6eb</td>\n",
       "      <td>h0ygg0e</td>\n",
       "      <td>/r/VaccinePeriod/comments/nun6eb/part_of_an_in...</td>\n",
       "      <td>Terminal-Psychosis</td>\n",
       "      <td>1.623101e+09</td>\n",
       "      <td>3</td>\n",
       "      <td>[]</td>\n",
       "      <td>False</td>\n",
       "      <td>False</td>\n",
       "      <td>She explains it very well. \\n\\nAt first the dr...</td>\n",
       "      <td>['She', 'explains', 'it', 'very', 'well', '.',...</td>\n",
       "      <td>122</td>\n",
       "      <td>explains well first drug companies claimed cel...</td>\n",
       "      <td>['explains', 'well', 'first', 'drug', 'compani...</td>\n",
       "      <td>63</td>\n",
       "    </tr>\n",
       "    <tr>\n",
       "      <th>4</th>\n",
       "      <td>LockdownSkepticismCAN</td>\n",
       "      <td>1</td>\n",
       "      <td>t3_oq8pls</td>\n",
       "      <td>h6bx0cd</td>\n",
       "      <td>/r/LockdownSkepticismCAN/comments/oq8pls/anyon...</td>\n",
       "      <td>Wylde_Won</td>\n",
       "      <td>1.627099e+09</td>\n",
       "      <td>10</td>\n",
       "      <td>[]</td>\n",
       "      <td>False</td>\n",
       "      <td>False</td>\n",
       "      <td>I agree with you on all those talking points. ...</td>\n",
       "      <td>['I', 'agree', 'with', 'you', 'on', 'all', 'th...</td>\n",
       "      <td>44</td>\n",
       "      <td>agree talking points first foremost medical in...</td>\n",
       "      <td>['agree', 'talking', 'points', 'first', 'forem...</td>\n",
       "      <td>21</td>\n",
       "    </tr>\n",
       "  </tbody>\n",
       "</table>\n",
       "</div>"
      ],
      "text/plain": [
       "          subreddit_name  quarantined    post_id comment_id  \\\n",
       "0     vaccinelonghaulers            1  t3_p16c7f    h8jhiq0   \n",
       "1              Wuhan_Flu            1  t3_fdy5z4    fjkp4ap   \n",
       "2   CovidVaccinatedUncut            1  t3_ouraju    h748daq   \n",
       "3          VaccinePeriod            1  t3_nun6eb    h0ygg0e   \n",
       "4  LockdownSkepticismCAN            1  t3_oq8pls    h6bx0cd   \n",
       "\n",
       "                                           permalink              author  \\\n",
       "0  /r/vaccinelonghaulers/comments/p16c7f/vaccine_...      aprilflowers23   \n",
       "1  /r/Wuhan_Flu/comments/fdy5z4/it_do_be_like_tha...                 NaN   \n",
       "2  /r/CovidVaccinatedUncut/comments/ouraju/vaccin...        volcanicpale   \n",
       "3  /r/VaccinePeriod/comments/nun6eb/part_of_an_in...  Terminal-Psychosis   \n",
       "4  /r/LockdownSkepticismCAN/comments/oq8pls/anyon...           Wylde_Won   \n",
       "\n",
       "    created_utc  score awards  stickied edited  \\\n",
       "0  1.628694e+09      2     []     False  False   \n",
       "1  1.583431e+09     25     []     False  False   \n",
       "2  1.627672e+09     16     []     False  False   \n",
       "3  1.623101e+09      3     []     False  False   \n",
       "4  1.627099e+09     10     []     False  False   \n",
       "\n",
       "                                                body  \\\n",
       "0  I needed that so badly last summer. My adrenal...   \n",
       "1  They wanna travel and see the world before the...   \n",
       "2  They’re unable to take a side after they’ve sh...   \n",
       "3  She explains it very well. \\n\\nAt first the dr...   \n",
       "4  I agree with you on all those talking points. ...   \n",
       "\n",
       "                                              tokens  num_tokens  \\\n",
       "0  ['I', 'needed', 'that', 'so', 'badly', 'last',...          96   \n",
       "1  ['They', 'wanna', 'travel', 'and', 'see', 'the...          17   \n",
       "2  ['They', '’', 're', 'unable', 'to', 'take', 'a...          23   \n",
       "3  ['She', 'explains', 'it', 'very', 'well', '.',...         122   \n",
       "4  ['I', 'agree', 'with', 'you', 'on', 'all', 'th...          44   \n",
       "\n",
       "                                            lmw_text  \\\n",
       "0  needed badly last summer adrenaline situation ...   \n",
       "1     wanna travel see world die nothing wrong right   \n",
       "2  unable take side shoved pro vaccine propaganda...   \n",
       "3  explains well first drug companies claimed cel...   \n",
       "4  agree talking points first foremost medical in...   \n",
       "\n",
       "                                          lmw_tokens  lmw_num_tokens  \n",
       "0  ['needed', 'badly', 'last', 'summer', 'adrenal...              43  \n",
       "1  ['wanna', 'travel', 'see', 'world', 'die', 'no...               8  \n",
       "2  ['unable', 'take', 'side', 'shoved', 'pro', 'v...              11  \n",
       "3  ['explains', 'well', 'first', 'drug', 'compani...              63  \n",
       "4  ['agree', 'talking', 'points', 'first', 'forem...              21  "
      ]
     },
     "execution_count": 50,
     "metadata": {},
     "output_type": "execute_result"
    }
   ],
   "source": [
    "reddit_df.head()"
   ]
  },
  {
   "cell_type": "markdown",
   "metadata": {},
   "source": [
    "# Visualize our Topic Model Training Data"
   ]
  },
  {
   "cell_type": "code",
   "execution_count": 51,
   "metadata": {},
   "outputs": [
    {
     "name": "stdout",
     "output_type": "stream",
     "text": [
      "random_quarantined_tokenized_df shape: (15500, 17)\n",
      "random_non_quarantined_tokenized_df shape: (15500, 17)\n",
      "The following is in the form of [quarantined, non_quarantined]\n",
      "total comments: [15500, 15500]\n",
      "token count: [626779, 720798]\n",
      "average token per coment: [40.43735483870968, 46.50309677419355]\n",
      "lmw processed token count: [311181, 330279]\n",
      "lmw processed avg token per comment [20.076193548387096, 21.30832258064516]\n"
     ]
    },
    {
     "data": {
      "image/png": "[encoded data removed]",
      "text/plain": [
       "<Figure size 576x864 with 5 Axes>"
      ]
     },
     "metadata": {},
     "output_type": "display_data"
    }
   ],
   "source": [
    "index = ['quarantined', 'non_quarantined']\n",
    "random_quarantined_tokenized_df = reddit_df[reddit_df['quarantined'] == 1]\n",
    "random_non_quarantined_tokenized_df = reddit_df[reddit_df['quarantined'] == 0]\n",
    "\n",
    "print(\"random_quarantined_tokenized_df shape:\", random_quarantined_tokenized_df.shape)\n",
    "print(\"random_non_quarantined_tokenized_df shape:\", random_non_quarantined_tokenized_df.shape)\n",
    "print(\"The following is in the form of [quarantined, non_quarantined]\")\n",
    "\n",
    "random_total_comments = [len(random_quarantined_tokenized_df.index), len(random_non_quarantined_tokenized_df.index)]\n",
    "print(\"total comments:\", random_total_comments)\n",
    "\n",
    "random_token_count = [random_quarantined_tokenized_df['num_tokens'].sum(), random_non_quarantined_tokenized_df['num_tokens'].sum()]\n",
    "print(\"token count:\", random_token_count)\n",
    "\n",
    "random_avg_token_per_comment = [tokens/comments for tokens, comments in zip(random_token_count, random_total_comments)]\n",
    "print(\"average token per coment:\", random_avg_token_per_comment)\n",
    "\n",
    "random_lmw_token_count = [random_quarantined_tokenized_df['lmw_num_tokens'].sum(), random_non_quarantined_tokenized_df['lmw_num_tokens'].sum()]\n",
    "print(\"lmw processed token count:\", random_lmw_token_count)\n",
    "\n",
    "random_lmw_avg_token_per_comment = [tokens/comments for tokens, comments in zip(random_lmw_token_count, random_total_comments)]\n",
    "print(\"lmw processed avg token per comment\", random_lmw_avg_token_per_comment)\n",
    "\n",
    "summary_df = pd.DataFrame(\n",
    "    {'tokens': random_token_count, \n",
    "     'comments': random_total_comments, \n",
    "     'avg tokens per comments': random_avg_token_per_comment,\n",
    "     'tokens (lmw processed)': random_lmw_token_count,\n",
    "     'avg tokens per comments (lmw processed)': random_lmw_avg_token_per_comment\n",
    "    }, \n",
    "      index = index)\n",
    "\n",
    "ax = summary_df.plot.bar(title=\"Summary\", rot=0, subplots=True, figsize=(8,12), legend=False)\n"
   ]
  },
  {
   "cell_type": "markdown",
   "metadata": {},
   "source": [
    "## Topic Models"
   ]
  },
  {
   "cell_type": "markdown",
   "metadata": {},
   "source": [
    "A topic model finds topics, or sets of correlated words, based on a provided collection of documents (or texts) from a set of authors. I will be using an LDA implementation called Mallet, which specializes in smaller documents and treats each document as a \"bag of words\", where order does not matter. In this case, our authors will be subreddits, and the documents will be all the comments "
   ]
  },
  {
   "cell_type": "code",
   "execution_count": null,
   "metadata": {},
   "outputs": [],
   "source": [
    "reddit_df = pd.read_csv('corpus/sample/random_3_100_50_comments.csv', encoding='utf8')"
   ]
  },
  {
   "cell_type": "code",
   "execution_count": 174,
   "metadata": {},
   "outputs": [],
   "source": [
    "reddit_df = reddit_df.rename(columns={'subreddit_name': 'Author', 'comment_id': 'Title'})"
   ]
  },
  {
   "cell_type": "code",
   "execution_count": 175,
   "metadata": {},
   "outputs": [],
   "source": [
    "reddit_df.to_csv('corpus/sample/random_3_100_50_comments_renamed.csv', index=False)"
   ]
  },
  {
   "cell_type": "code",
   "execution_count": 176,
   "metadata": {},
   "outputs": [],
   "source": [
    "reddit_df = pd.read_csv('corpus/sample/random_3_100_50_comments_renamed.csv')"
   ]
  },
  {
   "cell_type": "code",
   "execution_count": 177,
   "metadata": {},
   "outputs": [
    {
     "data": {
      "text/plain": [
       "(31000, 14)"
      ]
     },
     "execution_count": 177,
     "metadata": {},
     "output_type": "execute_result"
    }
   ],
   "source": [
    "reddit_df.shape"
   ]
  },
  {
   "cell_type": "markdown",
   "metadata": {},
   "source": [
    "Note: lmc.process_string automatically removes stop words"
   ]
  },
  {
   "cell_type": "code",
   "execution_count": 178,
   "metadata": {},
   "outputs": [
    {
     "data": {
      "text/plain": [
       "30705"
      ]
     },
     "execution_count": 178,
     "metadata": {},
     "output_type": "execute_result"
    }
   ],
   "source": [
    "training_data = [lmw.process_string(t) for t in reddit_df['body'].tolist()]\n",
    "training_data = [d for d in training_data if d.strip()]\n",
    "\n",
    "len(training_data)"
   ]
  },
  {
   "cell_type": "code",
   "execution_count": null,
   "metadata": {},
   "outputs": [
    {
     "data": {
      "text/plain": [
       "['story arnold talking based many truths concentrated effort underway bury truth reddit delete video ccp controlled subs /coronavirus communist chinese government reddit NUMnd largest investor ccp investment paying apparently also bat soup ass',\n",
       " 'wait vaccinated people likely carry virus look suddenly pro vaccine passport gotta keep mutant freaks away healthy people',\n",
       " 'said got sick march videos standing running around wedding around may really think someone going complications claiming would energy time full blown wedding walk normally let even talk usb cable taped arm like medical cable',\n",
       " 'tried making account didn work reason',\n",
       " 'muscle spasms pressure chest like middle sometimes feel heart racing sure first dose pfizer got might anxiety anyways debating get second dose pass extremely scared since developed high taking cough medication spiked NUM two years ago hospitalized think developed ptsd along anxiety probably hypochondriac haven taken kind medications within year afraid side effects hesitant vaccine got echo done heart healthy late NUM early NUM remember might look cardiologist sure changes got vaccinated',\n",
       " 'u/western exampleNUM u/truthuk wrote would make sense tinea versicolor fungal infection comments https //old reddit com/r/vaccineuniversity/comments/oNUMomhr/depending type vitiligo may/hNUMigt/',\n",
       " 'r/winstupidprizes',\n",
       " 'lol shit crippled whole world response fact',\n",
       " 'lol',\n",
       " 'good remember need feel pressured try convince anyone jump side massive reasonable group support']"
      ]
     },
     "execution_count": 80,
     "metadata": {},
     "output_type": "execute_result"
    }
   ],
   "source": [
    "training_data[:10]"
   ]
  },
  {
   "cell_type": "code",
   "execution_count": null,
   "metadata": {},
   "outputs": [
    {
     "name": "stdout",
     "output_type": "stream",
     "text": [
      "count         32000\n",
      "unique           92\n",
      "top       Wuhan_Flu\n",
      "freq           3640\n",
      "Name: Author, dtype: object\n"
     ]
    }
   ],
   "source": [
    "authors = reddit_df['Author'].tolist()\n",
    "print(reddit_df['Author'].describe())"
   ]
  },
  {
   "cell_type": "code",
   "execution_count": null,
   "metadata": {},
   "outputs": [
    {
     "name": "stdout",
     "output_type": "stream",
     "text": [
      "Number of Documents: 31721\n",
      "Mean Number of Words per Document: 18.9\n",
      "Vocabulary Size: 36134\n"
     ]
    }
   ],
   "source": [
    "lmw.print_dataset_stats(training_data)"
   ]
  }
 ],
 "metadata": {
  "interpreter": {
   "hash": "e3a14d13436796bda3ce79e7e194d47d5b30f1848eb28ea8f2a53f3734ff973d"
  },
  "kernelspec": {
   "display_name": "Python 3.9.7 64-bit (windows store)",
   "name": "python3"
  },
  "language_info": {
   "codemirror_mode": {
    "name": "ipython",
    "version": 3
   },
   "file_extension": ".py",
   "mimetype": "text/x-python",
   "name": "python",
   "nbconvert_exporter": "python",
   "pygments_lexer": "ipython3",
   "version": "3.9.9"
  }
 },
 "nbformat": 4,
 "nbformat_minor": 2
}
